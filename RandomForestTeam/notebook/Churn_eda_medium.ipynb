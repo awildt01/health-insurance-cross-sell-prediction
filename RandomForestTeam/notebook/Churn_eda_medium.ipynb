{
 "cells": [
  {
   "cell_type": "markdown",
   "id": "6ac57529",
   "metadata": {},
   "source": [
    "## 4. Explorative Datenanalyse (Datenvisualisierung, statische Bewertung)\n",
    "### Zusammenfassung:\n",
    "- Der Datensatz ist unausgeglichen. Es gibt mehrere interessierten als uninteressierte Kunden. Das kann dazu führen, dass der Algorithmus von den Modellen beeinflusst wird.\n",
    "- Männliche Kunden haben weniger Interesse als weibliche Kunden.\n",
    "- Die meisten Kunden kommen aus Spanien.\n",
    "- 25.07% von den Frauen tendieren die Bank zu verlassen\n",
    "- 50,14% von den Kunden, die kein Interesse haben, kommen aus Spanien\n",
    "- 16.45% von den männlichen Kunden tendieren die Bank zu verlassen.\n",
    "- Die Kunden sind durchschnittlich 5 Jahren bei der Bank.\n",
    "- Die männlichen Kunden benutzen öfter die Produkten von der Bank als die weibliche.\n",
    "- Kunden mit 3 oder 4 Produkte von der Bank verlassen öfter die Bank.\n",
    "- Kunden zwischen 31 und 40 Jahren alt und aus Spanien tendieren bei der Bank zu bleiben.\n",
    "- Kunden mit einem Balancescore zwischen 200001 und 250900 haben die Wahrscheinlichkeit von 0.558, die Bank zu verlassen.\n",
    "- Männliche Kunden mit einem niedrigen Creditscore und zwischen 41- 50 Jahren tendieren die Bank zu verlassen.\n"
   ]
  },
  {
   "cell_type": "code",
   "execution_count": 2,
   "id": "100f1072",
   "metadata": {},
   "outputs": [],
   "source": [
    "import pandas as pd\n",
    "import numpy as np\n",
    "from matplotlib import pyplot as plt\n",
    "import seaborn as sns\n",
    "import warnings\n",
    "warnings.simplefilter(action='ignore')"
   ]
  },
  {
   "cell_type": "code",
   "execution_count": 3,
   "id": "b48f183d",
   "metadata": {},
   "outputs": [],
   "source": [
    "df = pd.read_parquet('df_prossesing.parquet')"
   ]
  },
  {
   "cell_type": "code",
   "execution_count": 4,
   "id": "9cb78a8d",
   "metadata": {},
   "outputs": [
    {
     "data": {
      "text/html": [
       "<div>\n",
       "<style scoped>\n",
       "    .dataframe tbody tr th:only-of-type {\n",
       "        vertical-align: middle;\n",
       "    }\n",
       "\n",
       "    .dataframe tbody tr th {\n",
       "        vertical-align: top;\n",
       "    }\n",
       "\n",
       "    .dataframe thead th {\n",
       "        text-align: right;\n",
       "    }\n",
       "</style>\n",
       "<table border=\"1\" class=\"dataframe\">\n",
       "  <thead>\n",
       "    <tr style=\"text-align: right;\">\n",
       "      <th></th>\n",
       "      <th>RowNumber</th>\n",
       "      <th>CustomerId</th>\n",
       "      <th>Surname</th>\n",
       "      <th>CreditScore</th>\n",
       "      <th>Geography</th>\n",
       "      <th>Gender</th>\n",
       "      <th>Age</th>\n",
       "      <th>Tenure</th>\n",
       "      <th>Balance</th>\n",
       "      <th>NumOfProducts</th>\n",
       "      <th>HasCrCard</th>\n",
       "      <th>IsActiveMember</th>\n",
       "      <th>EstimatedSalary</th>\n",
       "      <th>Exited</th>\n",
       "      <th>Age_ord</th>\n",
       "      <th>CreditScore_ord</th>\n",
       "      <th>Balance_ord</th>\n",
       "      <th>EstimatedSalary_ord</th>\n",
       "    </tr>\n",
       "  </thead>\n",
       "  <tbody>\n",
       "    <tr>\n",
       "      <th>0</th>\n",
       "      <td>1</td>\n",
       "      <td>15634602</td>\n",
       "      <td>Hargrave</td>\n",
       "      <td>619</td>\n",
       "      <td>1</td>\n",
       "      <td>0</td>\n",
       "      <td>42</td>\n",
       "      <td>2</td>\n",
       "      <td>0.00</td>\n",
       "      <td>1</td>\n",
       "      <td>1</td>\n",
       "      <td>1</td>\n",
       "      <td>101348.88</td>\n",
       "      <td>1</td>\n",
       "      <td>41 to 50</td>\n",
       "      <td>501 to 699</td>\n",
       "      <td>0 to 25000</td>\n",
       "      <td>100001 to 125000</td>\n",
       "    </tr>\n",
       "    <tr>\n",
       "      <th>1</th>\n",
       "      <td>2</td>\n",
       "      <td>15647311</td>\n",
       "      <td>Hill</td>\n",
       "      <td>608</td>\n",
       "      <td>0</td>\n",
       "      <td>0</td>\n",
       "      <td>41</td>\n",
       "      <td>1</td>\n",
       "      <td>83807.86</td>\n",
       "      <td>1</td>\n",
       "      <td>0</td>\n",
       "      <td>1</td>\n",
       "      <td>112542.58</td>\n",
       "      <td>0</td>\n",
       "      <td>41 to 50</td>\n",
       "      <td>501 to 699</td>\n",
       "      <td>50001 to 100000</td>\n",
       "      <td>100001 to 125000</td>\n",
       "    </tr>\n",
       "    <tr>\n",
       "      <th>2</th>\n",
       "      <td>3</td>\n",
       "      <td>15619304</td>\n",
       "      <td>Onio</td>\n",
       "      <td>502</td>\n",
       "      <td>1</td>\n",
       "      <td>0</td>\n",
       "      <td>42</td>\n",
       "      <td>8</td>\n",
       "      <td>159660.80</td>\n",
       "      <td>3</td>\n",
       "      <td>1</td>\n",
       "      <td>0</td>\n",
       "      <td>113931.57</td>\n",
       "      <td>1</td>\n",
       "      <td>41 to 50</td>\n",
       "      <td>501 to 699</td>\n",
       "      <td>100001 to 200000</td>\n",
       "      <td>100001 to 125000</td>\n",
       "    </tr>\n",
       "    <tr>\n",
       "      <th>3</th>\n",
       "      <td>4</td>\n",
       "      <td>15701354</td>\n",
       "      <td>Boni</td>\n",
       "      <td>699</td>\n",
       "      <td>1</td>\n",
       "      <td>0</td>\n",
       "      <td>39</td>\n",
       "      <td>1</td>\n",
       "      <td>0.00</td>\n",
       "      <td>2</td>\n",
       "      <td>0</td>\n",
       "      <td>0</td>\n",
       "      <td>93826.63</td>\n",
       "      <td>0</td>\n",
       "      <td>31 to 40</td>\n",
       "      <td>501 to 699</td>\n",
       "      <td>0 to 25000</td>\n",
       "      <td>75001 to 100000</td>\n",
       "    </tr>\n",
       "    <tr>\n",
       "      <th>4</th>\n",
       "      <td>5</td>\n",
       "      <td>15737888</td>\n",
       "      <td>Mitchell</td>\n",
       "      <td>850</td>\n",
       "      <td>0</td>\n",
       "      <td>0</td>\n",
       "      <td>43</td>\n",
       "      <td>2</td>\n",
       "      <td>125510.82</td>\n",
       "      <td>1</td>\n",
       "      <td>1</td>\n",
       "      <td>1</td>\n",
       "      <td>79084.10</td>\n",
       "      <td>0</td>\n",
       "      <td>41 to 50</td>\n",
       "      <td>700 to 950</td>\n",
       "      <td>100001 to 200000</td>\n",
       "      <td>75001 to 100000</td>\n",
       "    </tr>\n",
       "  </tbody>\n",
       "</table>\n",
       "</div>"
      ],
      "text/plain": [
       "   RowNumber  CustomerId   Surname  CreditScore  Geography  Gender  Age  \\\n",
       "0          1    15634602  Hargrave          619          1       0   42   \n",
       "1          2    15647311      Hill          608          0       0   41   \n",
       "2          3    15619304      Onio          502          1       0   42   \n",
       "3          4    15701354      Boni          699          1       0   39   \n",
       "4          5    15737888  Mitchell          850          0       0   43   \n",
       "\n",
       "   Tenure    Balance  NumOfProducts  HasCrCard  IsActiveMember  \\\n",
       "0       2       0.00              1          1               1   \n",
       "1       1   83807.86              1          0               1   \n",
       "2       8  159660.80              3          1               0   \n",
       "3       1       0.00              2          0               0   \n",
       "4       2  125510.82              1          1               1   \n",
       "\n",
       "   EstimatedSalary  Exited   Age_ord CreditScore_ord       Balance_ord  \\\n",
       "0        101348.88       1  41 to 50      501 to 699        0 to 25000   \n",
       "1        112542.58       0  41 to 50      501 to 699   50001 to 100000   \n",
       "2        113931.57       1  41 to 50      501 to 699  100001 to 200000   \n",
       "3         93826.63       0  31 to 40      501 to 699        0 to 25000   \n",
       "4         79084.10       0  41 to 50      700 to 950  100001 to 200000   \n",
       "\n",
       "  EstimatedSalary_ord  \n",
       "0    100001 to 125000  \n",
       "1    100001 to 125000  \n",
       "2    100001 to 125000  \n",
       "3     75001 to 100000  \n",
       "4     75001 to 100000  "
      ]
     },
     "execution_count": 4,
     "metadata": {},
     "output_type": "execute_result"
    }
   ],
   "source": [
    "df.head()"
   ]
  },
  {
   "cell_type": "markdown",
   "id": "ecb4a5e4",
   "metadata": {},
   "source": [
    "## 4.1 Klassenungleichgewichten\n",
    "Die Datenset ist unausgeglichen . In dem Datensatz gibt es eine sehr ungleiche Verteilung der Klassen"
   ]
  },
  {
   "cell_type": "code",
   "execution_count": 5,
   "id": "e6cc96f4",
   "metadata": {},
   "outputs": [
    {
     "data": {
      "text/plain": [
       "<seaborn.axisgrid.FacetGrid at 0x2bef4fa21d0>"
      ]
     },
     "execution_count": 5,
     "metadata": {},
     "output_type": "execute_result"
    },
    {
     "data": {
      "image/png": "[encoded data removed]",
      "text/plain": [
       "<Figure size 360x360 with 1 Axes>"
      ]
     },
     "metadata": {
      "needs_background": "light"
     },
     "output_type": "display_data"
    }
   ],
   "source": [
    "%matplotlib inline\n",
    "sns.catplot(x=\"Exited\", \n",
    "            kind=\"count\", \n",
    "            palette=\"Set2\", \n",
    "            data= df )"
   ]
  },
  {
   "cell_type": "code",
   "execution_count": 6,
   "id": "9a215673",
   "metadata": {},
   "outputs": [
    {
     "data": {
      "text/plain": [
       "0    7963\n",
       "1    2037\n",
       "Name: Exited, dtype: int64"
      ]
     },
     "execution_count": 6,
     "metadata": {},
     "output_type": "execute_result"
    }
   ],
   "source": [
    "df['Exited'].value_counts()"
   ]
  },
  {
   "cell_type": "markdown",
   "id": "e6387282",
   "metadata": {},
   "source": [
    "## 4.2 Interesse für die Spalte Exited\n",
    "- Männliche Kunden haben mehr Interesse als weibliche Kunden.\n",
    "- Männliche Kunden zwischen 41 und 50 Jahren tendieren die Bank zu verlassen.\n",
    "- Aktive Kunden zwischen 41 und 50 Jahren tendieren bei der Bank zu bleiben.\n",
    "- Kunden mit einem Balancescore zwischen 200001 und 250900 haben die Wahrscheinlichkeit von 0.558, die Bank zu verlassen.\n",
    "- Kunden aus Spanien zeigen mehr Interesse.\n",
    "- Kunden, die 3 oder 4 Produkte der Bank haben, verlassen öfter die Bank.\n"
   ]
  },
  {
   "cell_type": "code",
   "execution_count": 8,
   "id": "3b584115",
   "metadata": {},
   "outputs": [
    {
     "data": {
      "text/html": [
       "<div>\n",
       "<style scoped>\n",
       "    .dataframe tbody tr th:only-of-type {\n",
       "        vertical-align: middle;\n",
       "    }\n",
       "\n",
       "    .dataframe tbody tr th {\n",
       "        vertical-align: top;\n",
       "    }\n",
       "\n",
       "    .dataframe thead th {\n",
       "        text-align: right;\n",
       "    }\n",
       "</style>\n",
       "<table border=\"1\" class=\"dataframe\">\n",
       "  <thead>\n",
       "    <tr style=\"text-align: right;\">\n",
       "      <th></th>\n",
       "      <th>Exited</th>\n",
       "    </tr>\n",
       "    <tr>\n",
       "      <th>Gender</th>\n",
       "      <th></th>\n",
       "    </tr>\n",
       "  </thead>\n",
       "  <tbody>\n",
       "    <tr>\n",
       "      <th>0</th>\n",
       "      <td>0.250715</td>\n",
       "    </tr>\n",
       "    <tr>\n",
       "      <th>1</th>\n",
       "      <td>0.164559</td>\n",
       "    </tr>\n",
       "  </tbody>\n",
       "</table>\n",
       "</div>"
      ],
      "text/plain": [
       "          Exited\n",
       "Gender          \n",
       "0       0.250715\n",
       "1       0.164559"
      ]
     },
     "execution_count": 8,
     "metadata": {},
     "output_type": "execute_result"
    }
   ],
   "source": [
    "df[['Gender','Exited']].groupby('Gender').mean()"
   ]
  },
  {
   "cell_type": "code",
   "execution_count": 9,
   "id": "5f0c5bf9",
   "metadata": {},
   "outputs": [
    {
     "data": {
      "text/html": [
       "<div>\n",
       "<style scoped>\n",
       "    .dataframe tbody tr th:only-of-type {\n",
       "        vertical-align: middle;\n",
       "    }\n",
       "\n",
       "    .dataframe tbody tr th {\n",
       "        vertical-align: top;\n",
       "    }\n",
       "\n",
       "    .dataframe thead th {\n",
       "        text-align: right;\n",
       "    }\n",
       "</style>\n",
       "<table border=\"1\" class=\"dataframe\">\n",
       "  <thead>\n",
       "    <tr style=\"text-align: right;\">\n",
       "      <th></th>\n",
       "      <th>Exited</th>\n",
       "    </tr>\n",
       "    <tr>\n",
       "      <th>Tenure</th>\n",
       "      <th></th>\n",
       "    </tr>\n",
       "  </thead>\n",
       "  <tbody>\n",
       "    <tr>\n",
       "      <th>0</th>\n",
       "      <td>0.230024</td>\n",
       "    </tr>\n",
       "    <tr>\n",
       "      <th>1</th>\n",
       "      <td>0.224155</td>\n",
       "    </tr>\n",
       "    <tr>\n",
       "      <th>2</th>\n",
       "      <td>0.191794</td>\n",
       "    </tr>\n",
       "    <tr>\n",
       "      <th>3</th>\n",
       "      <td>0.211100</td>\n",
       "    </tr>\n",
       "    <tr>\n",
       "      <th>4</th>\n",
       "      <td>0.205258</td>\n",
       "    </tr>\n",
       "    <tr>\n",
       "      <th>5</th>\n",
       "      <td>0.206522</td>\n",
       "    </tr>\n",
       "    <tr>\n",
       "      <th>6</th>\n",
       "      <td>0.202689</td>\n",
       "    </tr>\n",
       "    <tr>\n",
       "      <th>7</th>\n",
       "      <td>0.172179</td>\n",
       "    </tr>\n",
       "    <tr>\n",
       "      <th>8</th>\n",
       "      <td>0.192195</td>\n",
       "    </tr>\n",
       "    <tr>\n",
       "      <th>9</th>\n",
       "      <td>0.216463</td>\n",
       "    </tr>\n",
       "    <tr>\n",
       "      <th>10</th>\n",
       "      <td>0.206122</td>\n",
       "    </tr>\n",
       "  </tbody>\n",
       "</table>\n",
       "</div>"
      ],
      "text/plain": [
       "          Exited\n",
       "Tenure          \n",
       "0       0.230024\n",
       "1       0.224155\n",
       "2       0.191794\n",
       "3       0.211100\n",
       "4       0.205258\n",
       "5       0.206522\n",
       "6       0.202689\n",
       "7       0.172179\n",
       "8       0.192195\n",
       "9       0.216463\n",
       "10      0.206122"
      ]
     },
     "execution_count": 9,
     "metadata": {},
     "output_type": "execute_result"
    }
   ],
   "source": [
    "df[['Tenure','Exited']].groupby('Tenure').mean()"
   ]
  },
  {
   "cell_type": "code",
   "execution_count": 11,
   "id": "8a82dd74",
   "metadata": {},
   "outputs": [
    {
     "data": {
      "text/html": [
       "<div>\n",
       "<style scoped>\n",
       "    .dataframe tbody tr th:only-of-type {\n",
       "        vertical-align: middle;\n",
       "    }\n",
       "\n",
       "    .dataframe tbody tr th {\n",
       "        vertical-align: top;\n",
       "    }\n",
       "\n",
       "    .dataframe thead th {\n",
       "        text-align: right;\n",
       "    }\n",
       "</style>\n",
       "<table border=\"1\" class=\"dataframe\">\n",
       "  <thead>\n",
       "    <tr style=\"text-align: right;\">\n",
       "      <th></th>\n",
       "      <th>Exited</th>\n",
       "    </tr>\n",
       "    <tr>\n",
       "      <th>Age_ord</th>\n",
       "      <th></th>\n",
       "    </tr>\n",
       "  </thead>\n",
       "  <tbody>\n",
       "    <tr>\n",
       "      <th>18 to 30</th>\n",
       "      <td>0.056180</td>\n",
       "    </tr>\n",
       "    <tr>\n",
       "      <th>31 to 40</th>\n",
       "      <td>0.107583</td>\n",
       "    </tr>\n",
       "    <tr>\n",
       "      <th>41 to 50</th>\n",
       "      <td>0.396535</td>\n",
       "    </tr>\n",
       "    <tr>\n",
       "      <th>51 to 60</th>\n",
       "      <td>0.252212</td>\n",
       "    </tr>\n",
       "    <tr>\n",
       "      <th>61 to 100</th>\n",
       "      <td>0.083333</td>\n",
       "    </tr>\n",
       "  </tbody>\n",
       "</table>\n",
       "</div>"
      ],
      "text/plain": [
       "             Exited\n",
       "Age_ord            \n",
       "18 to 30   0.056180\n",
       "31 to 40   0.107583\n",
       "41 to 50   0.396535\n",
       "51 to 60   0.252212\n",
       "61 to 100  0.083333"
      ]
     },
     "execution_count": 11,
     "metadata": {},
     "output_type": "execute_result"
    }
   ],
   "source": [
    "df[['Age_ord','Exited']].groupby('Age_ord').mean()"
   ]
  },
  {
   "cell_type": "code",
   "execution_count": 12,
   "id": "cdd3499b",
   "metadata": {},
   "outputs": [
    {
     "data": {
      "text/html": [
       "<div>\n",
       "<style scoped>\n",
       "    .dataframe tbody tr th:only-of-type {\n",
       "        vertical-align: middle;\n",
       "    }\n",
       "\n",
       "    .dataframe tbody tr th {\n",
       "        vertical-align: top;\n",
       "    }\n",
       "\n",
       "    .dataframe thead th {\n",
       "        text-align: right;\n",
       "    }\n",
       "</style>\n",
       "<table border=\"1\" class=\"dataframe\">\n",
       "  <thead>\n",
       "    <tr style=\"text-align: right;\">\n",
       "      <th></th>\n",
       "      <th>Exited</th>\n",
       "    </tr>\n",
       "    <tr>\n",
       "      <th>IsActiveMember</th>\n",
       "      <th></th>\n",
       "    </tr>\n",
       "  </thead>\n",
       "  <tbody>\n",
       "    <tr>\n",
       "      <th>0</th>\n",
       "      <td>0.268509</td>\n",
       "    </tr>\n",
       "    <tr>\n",
       "      <th>1</th>\n",
       "      <td>0.142691</td>\n",
       "    </tr>\n",
       "  </tbody>\n",
       "</table>\n",
       "</div>"
      ],
      "text/plain": [
       "                  Exited\n",
       "IsActiveMember          \n",
       "0               0.268509\n",
       "1               0.142691"
      ]
     },
     "execution_count": 12,
     "metadata": {},
     "output_type": "execute_result"
    }
   ],
   "source": [
    "df[['IsActiveMember','Exited']].groupby('IsActiveMember').mean()"
   ]
  },
  {
   "cell_type": "code",
   "execution_count": 13,
   "id": "090b06ea",
   "metadata": {},
   "outputs": [
    {
     "data": {
      "text/html": [
       "<div>\n",
       "<style scoped>\n",
       "    .dataframe tbody tr th:only-of-type {\n",
       "        vertical-align: middle;\n",
       "    }\n",
       "\n",
       "    .dataframe tbody tr th {\n",
       "        vertical-align: top;\n",
       "    }\n",
       "\n",
       "    .dataframe thead th {\n",
       "        text-align: right;\n",
       "    }\n",
       "</style>\n",
       "<table border=\"1\" class=\"dataframe\">\n",
       "  <thead>\n",
       "    <tr style=\"text-align: right;\">\n",
       "      <th></th>\n",
       "      <th>Exited</th>\n",
       "    </tr>\n",
       "    <tr>\n",
       "      <th>CreditScore_ord</th>\n",
       "      <th></th>\n",
       "    </tr>\n",
       "  </thead>\n",
       "  <tbody>\n",
       "    <tr>\n",
       "      <th>350 to 500</th>\n",
       "      <td>0.230408</td>\n",
       "    </tr>\n",
       "    <tr>\n",
       "      <th>501 to 699</th>\n",
       "      <td>0.202852</td>\n",
       "    </tr>\n",
       "    <tr>\n",
       "      <th>700 to 950</th>\n",
       "      <td>0.198652</td>\n",
       "    </tr>\n",
       "  </tbody>\n",
       "</table>\n",
       "</div>"
      ],
      "text/plain": [
       "                   Exited\n",
       "CreditScore_ord          \n",
       "350 to 500       0.230408\n",
       "501 to 699       0.202852\n",
       "700 to 950       0.198652"
      ]
     },
     "execution_count": 13,
     "metadata": {},
     "output_type": "execute_result"
    }
   ],
   "source": [
    "df[['CreditScore_ord','Exited']].groupby('CreditScore_ord').mean()"
   ]
  },
  {
   "cell_type": "code",
   "execution_count": 14,
   "id": "47bd4f1d",
   "metadata": {},
   "outputs": [
    {
     "data": {
      "text/html": [
       "<div>\n",
       "<style scoped>\n",
       "    .dataframe tbody tr th:only-of-type {\n",
       "        vertical-align: middle;\n",
       "    }\n",
       "\n",
       "    .dataframe tbody tr th {\n",
       "        vertical-align: top;\n",
       "    }\n",
       "\n",
       "    .dataframe thead th {\n",
       "        text-align: right;\n",
       "    }\n",
       "</style>\n",
       "<table border=\"1\" class=\"dataframe\">\n",
       "  <thead>\n",
       "    <tr style=\"text-align: right;\">\n",
       "      <th></th>\n",
       "      <th>Exited</th>\n",
       "    </tr>\n",
       "    <tr>\n",
       "      <th>Balance_ord</th>\n",
       "      <th></th>\n",
       "    </tr>\n",
       "  </thead>\n",
       "  <tbody>\n",
       "    <tr>\n",
       "      <th>0 to 25000</th>\n",
       "      <td>0.139111</td>\n",
       "    </tr>\n",
       "    <tr>\n",
       "      <th>25001 to 50000</th>\n",
       "      <td>0.318841</td>\n",
       "    </tr>\n",
       "    <tr>\n",
       "      <th>50001 to 100000</th>\n",
       "      <td>0.198807</td>\n",
       "    </tr>\n",
       "    <tr>\n",
       "      <th>100001 to 200000</th>\n",
       "      <td>0.250157</td>\n",
       "    </tr>\n",
       "    <tr>\n",
       "      <th>200001 to 250900</th>\n",
       "      <td>0.558824</td>\n",
       "    </tr>\n",
       "  </tbody>\n",
       "</table>\n",
       "</div>"
      ],
      "text/plain": [
       "                    Exited\n",
       "Balance_ord               \n",
       "0 to 25000        0.139111\n",
       "25001 to 50000    0.318841\n",
       "50001 to 100000   0.198807\n",
       "100001 to 200000  0.250157\n",
       "200001 to 250900  0.558824"
      ]
     },
     "execution_count": 14,
     "metadata": {},
     "output_type": "execute_result"
    }
   ],
   "source": [
    "df[['Balance_ord','Exited']].groupby('Balance_ord').mean()"
   ]
  },
  {
   "cell_type": "code",
   "execution_count": 8,
   "id": "0ed5d638",
   "metadata": {},
   "outputs": [
    {
     "data": {
      "text/html": [
       "<div>\n",
       "<style scoped>\n",
       "    .dataframe tbody tr th:only-of-type {\n",
       "        vertical-align: middle;\n",
       "    }\n",
       "\n",
       "    .dataframe tbody tr th {\n",
       "        vertical-align: top;\n",
       "    }\n",
       "\n",
       "    .dataframe thead th {\n",
       "        text-align: right;\n",
       "    }\n",
       "</style>\n",
       "<table border=\"1\" class=\"dataframe\">\n",
       "  <thead>\n",
       "    <tr style=\"text-align: right;\">\n",
       "      <th></th>\n",
       "      <th>Exited</th>\n",
       "    </tr>\n",
       "    <tr>\n",
       "      <th>EstimatedSalary_ord</th>\n",
       "      <th></th>\n",
       "    </tr>\n",
       "  </thead>\n",
       "  <tbody>\n",
       "    <tr>\n",
       "      <th>0 to 25000</th>\n",
       "      <td>0.198850</td>\n",
       "    </tr>\n",
       "    <tr>\n",
       "      <th>25001 to 50000</th>\n",
       "      <td>0.199838</td>\n",
       "    </tr>\n",
       "    <tr>\n",
       "      <th>50001 to 75000</th>\n",
       "      <td>0.209614</td>\n",
       "    </tr>\n",
       "    <tr>\n",
       "      <th>75001 to 100000</th>\n",
       "      <td>0.187697</td>\n",
       "    </tr>\n",
       "    <tr>\n",
       "      <th>100001 to 125000</th>\n",
       "      <td>0.200627</td>\n",
       "    </tr>\n",
       "    <tr>\n",
       "      <th>125001 to 150000</th>\n",
       "      <td>0.204066</td>\n",
       "    </tr>\n",
       "    <tr>\n",
       "      <th>150001 to 175000</th>\n",
       "      <td>0.212552</td>\n",
       "    </tr>\n",
       "    <tr>\n",
       "      <th>175001 to 200000</th>\n",
       "      <td>0.216667</td>\n",
       "    </tr>\n",
       "  </tbody>\n",
       "</table>\n",
       "</div>"
      ],
      "text/plain": [
       "                       Exited\n",
       "EstimatedSalary_ord          \n",
       "0 to 25000           0.198850\n",
       "25001 to 50000       0.199838\n",
       "50001 to 75000       0.209614\n",
       "75001 to 100000      0.187697\n",
       "100001 to 125000     0.200627\n",
       "125001 to 150000     0.204066\n",
       "150001 to 175000     0.212552\n",
       "175001 to 200000     0.216667"
      ]
     },
     "execution_count": 8,
     "metadata": {},
     "output_type": "execute_result"
    }
   ],
   "source": [
    "df[['EstimatedSalary_ord','Exited']].groupby('EstimatedSalary_ord').mean()"
   ]
  },
  {
   "cell_type": "code",
   "execution_count": 10,
   "id": "42100a13",
   "metadata": {},
   "outputs": [
    {
     "data": {
      "text/html": [
       "<div>\n",
       "<style scoped>\n",
       "    .dataframe tbody tr th:only-of-type {\n",
       "        vertical-align: middle;\n",
       "    }\n",
       "\n",
       "    .dataframe tbody tr th {\n",
       "        vertical-align: top;\n",
       "    }\n",
       "\n",
       "    .dataframe thead th {\n",
       "        text-align: right;\n",
       "    }\n",
       "</style>\n",
       "<table border=\"1\" class=\"dataframe\">\n",
       "  <thead>\n",
       "    <tr style=\"text-align: right;\">\n",
       "      <th></th>\n",
       "      <th>Exited</th>\n",
       "    </tr>\n",
       "    <tr>\n",
       "      <th>Geography</th>\n",
       "      <th></th>\n",
       "    </tr>\n",
       "  </thead>\n",
       "  <tbody>\n",
       "    <tr>\n",
       "      <th>0</th>\n",
       "      <td>0.166734</td>\n",
       "    </tr>\n",
       "    <tr>\n",
       "      <th>1</th>\n",
       "      <td>0.161548</td>\n",
       "    </tr>\n",
       "    <tr>\n",
       "      <th>2</th>\n",
       "      <td>0.324432</td>\n",
       "    </tr>\n",
       "  </tbody>\n",
       "</table>\n",
       "</div>"
      ],
      "text/plain": [
       "             Exited\n",
       "Geography          \n",
       "0          0.166734\n",
       "1          0.161548\n",
       "2          0.324432"
      ]
     },
     "execution_count": 10,
     "metadata": {},
     "output_type": "execute_result"
    }
   ],
   "source": [
    "df[['Geography','Exited']].groupby('Geography').mean()"
   ]
  },
  {
   "cell_type": "code",
   "execution_count": 12,
   "id": "87d5f57d",
   "metadata": {},
   "outputs": [
    {
     "data": {
      "text/html": [
       "<div>\n",
       "<style scoped>\n",
       "    .dataframe tbody tr th:only-of-type {\n",
       "        vertical-align: middle;\n",
       "    }\n",
       "\n",
       "    .dataframe tbody tr th {\n",
       "        vertical-align: top;\n",
       "    }\n",
       "\n",
       "    .dataframe thead th {\n",
       "        text-align: right;\n",
       "    }\n",
       "</style>\n",
       "<table border=\"1\" class=\"dataframe\">\n",
       "  <thead>\n",
       "    <tr style=\"text-align: right;\">\n",
       "      <th></th>\n",
       "      <th>Exited</th>\n",
       "    </tr>\n",
       "    <tr>\n",
       "      <th>NumOfProducts</th>\n",
       "      <th></th>\n",
       "    </tr>\n",
       "  </thead>\n",
       "  <tbody>\n",
       "    <tr>\n",
       "      <th>1</th>\n",
       "      <td>0.277144</td>\n",
       "    </tr>\n",
       "    <tr>\n",
       "      <th>2</th>\n",
       "      <td>0.075817</td>\n",
       "    </tr>\n",
       "    <tr>\n",
       "      <th>3</th>\n",
       "      <td>0.827068</td>\n",
       "    </tr>\n",
       "    <tr>\n",
       "      <th>4</th>\n",
       "      <td>1.000000</td>\n",
       "    </tr>\n",
       "  </tbody>\n",
       "</table>\n",
       "</div>"
      ],
      "text/plain": [
       "                 Exited\n",
       "NumOfProducts          \n",
       "1              0.277144\n",
       "2              0.075817\n",
       "3              0.827068\n",
       "4              1.000000"
      ]
     },
     "execution_count": 12,
     "metadata": {},
     "output_type": "execute_result"
    }
   ],
   "source": [
    "df[['NumOfProducts','Exited']].groupby('NumOfProducts').mean()"
   ]
  },
  {
   "cell_type": "code",
   "execution_count": 13,
   "id": "f631601e",
   "metadata": {},
   "outputs": [
    {
     "data": {
      "text/html": [
       "<div>\n",
       "<style scoped>\n",
       "    .dataframe tbody tr th:only-of-type {\n",
       "        vertical-align: middle;\n",
       "    }\n",
       "\n",
       "    .dataframe tbody tr th {\n",
       "        vertical-align: top;\n",
       "    }\n",
       "\n",
       "    .dataframe thead th {\n",
       "        text-align: right;\n",
       "    }\n",
       "</style>\n",
       "<table border=\"1\" class=\"dataframe\">\n",
       "  <thead>\n",
       "    <tr style=\"text-align: right;\">\n",
       "      <th></th>\n",
       "      <th>Exited</th>\n",
       "    </tr>\n",
       "    <tr>\n",
       "      <th>HasCrCard</th>\n",
       "      <th></th>\n",
       "    </tr>\n",
       "  </thead>\n",
       "  <tbody>\n",
       "    <tr>\n",
       "      <th>0</th>\n",
       "      <td>0.208149</td>\n",
       "    </tr>\n",
       "    <tr>\n",
       "      <th>1</th>\n",
       "      <td>0.201843</td>\n",
       "    </tr>\n",
       "  </tbody>\n",
       "</table>\n",
       "</div>"
      ],
      "text/plain": [
       "             Exited\n",
       "HasCrCard          \n",
       "0          0.208149\n",
       "1          0.201843"
      ]
     },
     "execution_count": 13,
     "metadata": {},
     "output_type": "execute_result"
    }
   ],
   "source": [
    "df[['HasCrCard','Exited']].groupby('HasCrCard').mean()"
   ]
  },
  {
   "cell_type": "markdown",
   "id": "68bdadc9",
   "metadata": {},
   "source": [
    "## 4.3 Interesse für  outliers.\n",
    "- Bei Datensammeln wurde die Datei gelesen und untersucht. Es wurden outlier indentifiziert in den Spalten Age und CreditScore\n"
   ]
  },
  {
   "cell_type": "code",
   "execution_count": 14,
   "id": "8ab50789",
   "metadata": {},
   "outputs": [
    {
     "data": {
      "text/plain": [
       "<AxesSubplot:xlabel='Age'>"
      ]
     },
     "execution_count": 14,
     "metadata": {},
     "output_type": "execute_result"
    },
    {
     "data": {
      "image/png": "[encoded data removed]",
      "text/plain": [
       "<Figure size 432x288 with 1 Axes>"
      ]
     },
     "metadata": {
      "needs_background": "light"
     },
     "output_type": "display_data"
    }
   ],
   "source": [
    "%matplotlib inline\n",
    "sns.boxplot(df.Age)"
   ]
  },
  {
   "cell_type": "code",
   "execution_count": 15,
   "id": "8b8b46aa",
   "metadata": {},
   "outputs": [
    {
     "data": {
      "text/plain": [
       "<AxesSubplot:xlabel='CreditScore'>"
      ]
     },
     "execution_count": 15,
     "metadata": {},
     "output_type": "execute_result"
    },
    {
     "data": {
      "image/png": "[encoded data removed]",
      "text/plain": [
       "<Figure size 432x288 with 1 Axes>"
      ]
     },
     "metadata": {
      "needs_background": "light"
     },
     "output_type": "display_data"
    }
   ],
   "source": [
    "%matplotlib inline\n",
    "sns.boxplot(df.CreditScore)\n"
   ]
  },
  {
   "cell_type": "markdown",
   "id": "8815b017",
   "metadata": {},
   "source": [
    "## 4.4 Interesse für die Spalte Gender\n",
    "- Weibliche Kunden haben die Tendenz bei der Bank zu bleiben.\n",
    "- Die meisten Kunden kommen aus Spanien und sind weiblich.\n",
    "- 4543 weibliche und 5457 männliche Kunden\n",
    "- 25% der männlichen Kunden verlassen die Bank\n",
    "- 16% der weiblichen Kunden verlassen die Bank\n",
    "- Weibliche und männliche Kunden haben entweder 1 oder 2 Produkten\n",
    "- Die meisten Kunden sind seit 5 Jahren bei der Bank\n",
    "- Weibliche Kunden haben die Tendenz bei der Bank zu bleiben."
   ]
  },
  {
   "cell_type": "code",
   "execution_count": 169,
   "id": "14529adb",
   "metadata": {},
   "outputs": [
    {
     "data": {
      "text/plain": [
       "<seaborn.axisgrid.FacetGrid at 0x1a76c17c0d0>"
      ]
     },
     "execution_count": 169,
     "metadata": {},
     "output_type": "execute_result"
    },
    {
     "data": {
      "image/png": "[encoded data removed]",
      "text/plain": [
       "<Figure size 402.375x360 with 1 Axes>"
      ]
     },
     "metadata": {
      "needs_background": "light"
     },
     "output_type": "display_data"
    }
   ],
   "source": [
    "# male : 0 Female : 1\n",
    "sns.catplot(x=\"Gender\", \n",
    "            kind=\"count\", \n",
    "            palette=\"Set2\", \n",
    "            data= df, \n",
    "            hue = \"Exited\" )"
   ]
  },
  {
   "cell_type": "code",
   "execution_count": 170,
   "id": "7c9c8dde",
   "metadata": {},
   "outputs": [
    {
     "data": {
      "text/plain": [
       "<seaborn.axisgrid.FacetGrid at 0x1a76bf04d60>"
      ]
     },
     "execution_count": 170,
     "metadata": {},
     "output_type": "execute_result"
    },
    {
     "data": {
      "image/png": "[encoded data removed]",
      "text/plain": [
       "<Figure size 423x360 with 1 Axes>"
      ]
     },
     "metadata": {
      "needs_background": "light"
     },
     "output_type": "display_data"
    }
   ],
   "source": [
    "# male : 0 Female 1\n",
    "# Geography Franca : 0 Espanha :1 Alemanha 2 \n",
    "sns.catplot(x=\"Gender\", \n",
    "            kind=\"count\", \n",
    "            palette=\"Set2\", \n",
    "            data= df, \n",
    "            hue = \"Geography\" )"
   ]
  },
  {
   "cell_type": "code",
   "execution_count": 171,
   "id": "008a8b98",
   "metadata": {},
   "outputs": [
    {
     "data": {
      "text/plain": [
       "<seaborn.axisgrid.FacetGrid at 0x1a768612220>"
      ]
     },
     "execution_count": 171,
     "metadata": {},
     "output_type": "execute_result"
    },
    {
     "data": {
      "image/png": "[encoded data removed]",
      "text/plain": [
       "<Figure size 446x360 with 1 Axes>"
      ]
     },
     "metadata": {
      "needs_background": "light"
     },
     "output_type": "display_data"
    }
   ],
   "source": [
    "# 'Female': 0, 'Male': 1\n",
    "sns.catplot(x=\"Gender\", kind=\"count\", palette=\"Set2\", data= df, hue = \"NumOfProducts\" )"
   ]
  },
  {
   "cell_type": "code",
   "execution_count": 172,
   "id": "27f4d2ac",
   "metadata": {},
   "outputs": [
    {
     "data": {
      "text/plain": [
       "<seaborn.axisgrid.FacetGrid at 0x1a76a6b8820>"
      ]
     },
     "execution_count": 172,
     "metadata": {},
     "output_type": "execute_result"
    },
    {
     "data": {
      "image/png": "[encoded data removed]",
      "text/plain": [
       "<Figure size 421.25x360 with 1 Axes>"
      ]
     },
     "metadata": {
      "needs_background": "light"
     },
     "output_type": "display_data"
    }
   ],
   "source": [
    "sns.catplot(x=\"Gender\", kind=\"count\", palette=\"Set2\", data= df, hue = \"HasCrCard\" )"
   ]
  },
  {
   "cell_type": "code",
   "execution_count": 173,
   "id": "8978eac3",
   "metadata": {},
   "outputs": [
    {
     "data": {
      "text/plain": [
       "<seaborn.axisgrid.FacetGrid at 0x1a769d19910>"
      ]
     },
     "execution_count": 173,
     "metadata": {},
     "output_type": "execute_result"
    },
    {
     "data": {
      "image/png": "[encoded data removed]",
      "text/plain": [
       "<Figure size 448x360 with 1 Axes>"
      ]
     },
     "metadata": {
      "needs_background": "light"
     },
     "output_type": "display_data"
    }
   ],
   "source": [
    "sns.catplot(x=\"Gender\", \n",
    "            kind=\"count\", \n",
    "            palette=\"Set2\", \n",
    "            data= df, \n",
    "            hue = \"IsActiveMember\" )\n"
   ]
  },
  {
   "cell_type": "code",
   "execution_count": 174,
   "id": "08d56fa3",
   "metadata": {},
   "outputs": [
    {
     "data": {
      "image/png": "[encoded data removed]",
      "text/plain": [
       "<Figure size 360x360 with 1 Axes>"
      ]
     },
     "metadata": {
      "needs_background": "light"
     },
     "output_type": "display_data"
    }
   ],
   "source": [
    "sns.catplot(x=\"Gender\", \n",
    "            y=\"Tenure\", \n",
    "            kind=\"box\", data=df);"
   ]
  },
  {
   "cell_type": "code",
   "execution_count": 17,
   "id": "91c3e0a9",
   "metadata": {},
   "outputs": [
    {
     "data": {
      "text/html": [
       "<div>\n",
       "<style scoped>\n",
       "    .dataframe tbody tr th:only-of-type {\n",
       "        vertical-align: middle;\n",
       "    }\n",
       "\n",
       "    .dataframe tbody tr th {\n",
       "        vertical-align: top;\n",
       "    }\n",
       "\n",
       "    .dataframe thead th {\n",
       "        text-align: right;\n",
       "    }\n",
       "</style>\n",
       "<table border=\"1\" class=\"dataframe\">\n",
       "  <thead>\n",
       "    <tr style=\"text-align: right;\">\n",
       "      <th></th>\n",
       "      <th>Total Male</th>\n",
       "      <th>Total Female</th>\n",
       "      <th>Total Male ohne Interesse %</th>\n",
       "      <th>Total Famale ohne interesse %</th>\n",
       "    </tr>\n",
       "  </thead>\n",
       "  <tbody>\n",
       "    <tr>\n",
       "      <th>0</th>\n",
       "      <td>5457</td>\n",
       "      <td>4543</td>\n",
       "      <td>25.071539</td>\n",
       "      <td>16.455928</td>\n",
       "    </tr>\n",
       "  </tbody>\n",
       "</table>\n",
       "</div>"
      ],
      "text/plain": [
       "   Total Male  Total Female  Total Male ohne Interesse %  \\\n",
       "0        5457          4543                    25.071539   \n",
       "\n",
       "   Total Famale ohne interesse %  \n",
       "0                      16.455928  "
      ]
     },
     "execution_count": 17,
     "metadata": {},
     "output_type": "execute_result"
    }
   ],
   "source": [
    "from IPython.display import display\n",
    "import pandas as pd\n",
    "  \n",
    "# creating a DataFrame\n",
    "dict = {'Total Male' : [(df['Gender']== 1).sum()],\n",
    "        'Total Female' :[ (df['Gender']== 0).sum()],\n",
    "        'Total Male ohne Interesse %':[((df['Gender'] == 0) & (df['Exited']==1)).sum() / \n",
    "                                       (df['Gender'] == 0).sum()*100],\n",
    "        'Total Famale ohne interesse %':[((df['Gender'] == 1) & (df['Exited']==1)).sum() / \n",
    "                                         (df['Gender'] == 1).sum()*100]\n",
    "         }\n",
    "\n",
    "\n",
    "\n",
    "dataframe = pd.DataFrame(dict)\n",
    "  \n",
    "# displaying the DataFrame\n",
    "#display(dataframe)\n",
    "\n",
    "\n",
    "\n",
    "dataframe"
   ]
  },
  {
   "cell_type": "markdown",
   "id": "149e905b",
   "metadata": {},
   "source": [
    "## 4.5 Interesse für Age\n",
    "- Es wurde die Spalte Age_ord erzeugt (Codierung kategorialer Merkmale).\t\n",
    "- Die meisten Kunden sind zwischen 31 und 40 Jahren und kommen aus Spanien.\n",
    "- Es gibt wenige Kunden zwischen 18-30 und 50-61 Jahren bei der Bank\n"
   ]
  },
  {
   "cell_type": "code",
   "execution_count": 11,
   "id": "389b72d2",
   "metadata": {},
   "outputs": [],
   "source": [
    "df_2 =df = pd.read_parquet('df_prossesing.parquet')"
   ]
  },
  {
   "cell_type": "code",
   "execution_count": 12,
   "id": "8cf4210d",
   "metadata": {},
   "outputs": [
    {
     "data": {
      "text/html": [
       "<div>\n",
       "<style scoped>\n",
       "    .dataframe tbody tr th:only-of-type {\n",
       "        vertical-align: middle;\n",
       "    }\n",
       "\n",
       "    .dataframe tbody tr th {\n",
       "        vertical-align: top;\n",
       "    }\n",
       "\n",
       "    .dataframe thead th {\n",
       "        text-align: right;\n",
       "    }\n",
       "</style>\n",
       "<table border=\"1\" class=\"dataframe\">\n",
       "  <thead>\n",
       "    <tr style=\"text-align: right;\">\n",
       "      <th></th>\n",
       "      <th>RowNumber</th>\n",
       "      <th>CustomerId</th>\n",
       "      <th>Surname</th>\n",
       "      <th>CreditScore</th>\n",
       "      <th>Geography</th>\n",
       "      <th>Gender</th>\n",
       "      <th>Age</th>\n",
       "      <th>Tenure</th>\n",
       "      <th>Balance</th>\n",
       "      <th>NumOfProducts</th>\n",
       "      <th>HasCrCard</th>\n",
       "      <th>IsActiveMember</th>\n",
       "      <th>EstimatedSalary</th>\n",
       "      <th>Exited</th>\n",
       "      <th>Age_ord</th>\n",
       "      <th>CreditScore_ord</th>\n",
       "      <th>Balance_ord</th>\n",
       "      <th>EstimatedSalary_ord</th>\n",
       "    </tr>\n",
       "  </thead>\n",
       "  <tbody>\n",
       "    <tr>\n",
       "      <th>0</th>\n",
       "      <td>1</td>\n",
       "      <td>15634602</td>\n",
       "      <td>Hargrave</td>\n",
       "      <td>619</td>\n",
       "      <td>1</td>\n",
       "      <td>0</td>\n",
       "      <td>42</td>\n",
       "      <td>2</td>\n",
       "      <td>0.00</td>\n",
       "      <td>1</td>\n",
       "      <td>1</td>\n",
       "      <td>1</td>\n",
       "      <td>101348.88</td>\n",
       "      <td>1</td>\n",
       "      <td>41 to 50</td>\n",
       "      <td>501 to 699</td>\n",
       "      <td>0 to 25000</td>\n",
       "      <td>100001 to 125000</td>\n",
       "    </tr>\n",
       "    <tr>\n",
       "      <th>1</th>\n",
       "      <td>2</td>\n",
       "      <td>15647311</td>\n",
       "      <td>Hill</td>\n",
       "      <td>608</td>\n",
       "      <td>0</td>\n",
       "      <td>0</td>\n",
       "      <td>41</td>\n",
       "      <td>1</td>\n",
       "      <td>83807.86</td>\n",
       "      <td>1</td>\n",
       "      <td>0</td>\n",
       "      <td>1</td>\n",
       "      <td>112542.58</td>\n",
       "      <td>0</td>\n",
       "      <td>41 to 50</td>\n",
       "      <td>501 to 699</td>\n",
       "      <td>50001 to 100000</td>\n",
       "      <td>100001 to 125000</td>\n",
       "    </tr>\n",
       "    <tr>\n",
       "      <th>2</th>\n",
       "      <td>3</td>\n",
       "      <td>15619304</td>\n",
       "      <td>Onio</td>\n",
       "      <td>502</td>\n",
       "      <td>1</td>\n",
       "      <td>0</td>\n",
       "      <td>42</td>\n",
       "      <td>8</td>\n",
       "      <td>159660.80</td>\n",
       "      <td>3</td>\n",
       "      <td>1</td>\n",
       "      <td>0</td>\n",
       "      <td>113931.57</td>\n",
       "      <td>1</td>\n",
       "      <td>41 to 50</td>\n",
       "      <td>501 to 699</td>\n",
       "      <td>100001 to 200000</td>\n",
       "      <td>100001 to 125000</td>\n",
       "    </tr>\n",
       "    <tr>\n",
       "      <th>3</th>\n",
       "      <td>4</td>\n",
       "      <td>15701354</td>\n",
       "      <td>Boni</td>\n",
       "      <td>699</td>\n",
       "      <td>1</td>\n",
       "      <td>0</td>\n",
       "      <td>39</td>\n",
       "      <td>1</td>\n",
       "      <td>0.00</td>\n",
       "      <td>2</td>\n",
       "      <td>0</td>\n",
       "      <td>0</td>\n",
       "      <td>93826.63</td>\n",
       "      <td>0</td>\n",
       "      <td>31 to 40</td>\n",
       "      <td>501 to 699</td>\n",
       "      <td>0 to 25000</td>\n",
       "      <td>75001 to 100000</td>\n",
       "    </tr>\n",
       "    <tr>\n",
       "      <th>4</th>\n",
       "      <td>5</td>\n",
       "      <td>15737888</td>\n",
       "      <td>Mitchell</td>\n",
       "      <td>850</td>\n",
       "      <td>0</td>\n",
       "      <td>0</td>\n",
       "      <td>43</td>\n",
       "      <td>2</td>\n",
       "      <td>125510.82</td>\n",
       "      <td>1</td>\n",
       "      <td>1</td>\n",
       "      <td>1</td>\n",
       "      <td>79084.10</td>\n",
       "      <td>0</td>\n",
       "      <td>41 to 50</td>\n",
       "      <td>700 to 950</td>\n",
       "      <td>100001 to 200000</td>\n",
       "      <td>75001 to 100000</td>\n",
       "    </tr>\n",
       "    <tr>\n",
       "      <th>...</th>\n",
       "      <td>...</td>\n",
       "      <td>...</td>\n",
       "      <td>...</td>\n",
       "      <td>...</td>\n",
       "      <td>...</td>\n",
       "      <td>...</td>\n",
       "      <td>...</td>\n",
       "      <td>...</td>\n",
       "      <td>...</td>\n",
       "      <td>...</td>\n",
       "      <td>...</td>\n",
       "      <td>...</td>\n",
       "      <td>...</td>\n",
       "      <td>...</td>\n",
       "      <td>...</td>\n",
       "      <td>...</td>\n",
       "      <td>...</td>\n",
       "      <td>...</td>\n",
       "    </tr>\n",
       "    <tr>\n",
       "      <th>65</th>\n",
       "      <td>66</td>\n",
       "      <td>15789484</td>\n",
       "      <td>Hammond</td>\n",
       "      <td>751</td>\n",
       "      <td>2</td>\n",
       "      <td>0</td>\n",
       "      <td>36</td>\n",
       "      <td>6</td>\n",
       "      <td>169831.46</td>\n",
       "      <td>2</td>\n",
       "      <td>1</td>\n",
       "      <td>1</td>\n",
       "      <td>27758.36</td>\n",
       "      <td>0</td>\n",
       "      <td>31 to 40</td>\n",
       "      <td>700 to 950</td>\n",
       "      <td>100001 to 200000</td>\n",
       "      <td>25001 to 50000</td>\n",
       "    </tr>\n",
       "    <tr>\n",
       "      <th>66</th>\n",
       "      <td>67</td>\n",
       "      <td>15696061</td>\n",
       "      <td>Brownless</td>\n",
       "      <td>581</td>\n",
       "      <td>2</td>\n",
       "      <td>0</td>\n",
       "      <td>34</td>\n",
       "      <td>1</td>\n",
       "      <td>101633.04</td>\n",
       "      <td>1</td>\n",
       "      <td>1</td>\n",
       "      <td>0</td>\n",
       "      <td>110431.51</td>\n",
       "      <td>0</td>\n",
       "      <td>31 to 40</td>\n",
       "      <td>501 to 699</td>\n",
       "      <td>100001 to 200000</td>\n",
       "      <td>100001 to 125000</td>\n",
       "    </tr>\n",
       "    <tr>\n",
       "      <th>67</th>\n",
       "      <td>68</td>\n",
       "      <td>15641582</td>\n",
       "      <td>Chibugo</td>\n",
       "      <td>735</td>\n",
       "      <td>2</td>\n",
       "      <td>1</td>\n",
       "      <td>43</td>\n",
       "      <td>10</td>\n",
       "      <td>123180.01</td>\n",
       "      <td>2</td>\n",
       "      <td>1</td>\n",
       "      <td>1</td>\n",
       "      <td>196673.28</td>\n",
       "      <td>0</td>\n",
       "      <td>41 to 50</td>\n",
       "      <td>700 to 950</td>\n",
       "      <td>100001 to 200000</td>\n",
       "      <td>175001 to 200000</td>\n",
       "    </tr>\n",
       "    <tr>\n",
       "      <th>68</th>\n",
       "      <td>69</td>\n",
       "      <td>15638424</td>\n",
       "      <td>Glauert</td>\n",
       "      <td>661</td>\n",
       "      <td>2</td>\n",
       "      <td>0</td>\n",
       "      <td>35</td>\n",
       "      <td>5</td>\n",
       "      <td>150725.53</td>\n",
       "      <td>2</td>\n",
       "      <td>0</td>\n",
       "      <td>1</td>\n",
       "      <td>113656.85</td>\n",
       "      <td>0</td>\n",
       "      <td>31 to 40</td>\n",
       "      <td>501 to 699</td>\n",
       "      <td>100001 to 200000</td>\n",
       "      <td>100001 to 125000</td>\n",
       "    </tr>\n",
       "    <tr>\n",
       "      <th>69</th>\n",
       "      <td>70</td>\n",
       "      <td>15755648</td>\n",
       "      <td>Pisano</td>\n",
       "      <td>675</td>\n",
       "      <td>1</td>\n",
       "      <td>0</td>\n",
       "      <td>21</td>\n",
       "      <td>8</td>\n",
       "      <td>98373.26</td>\n",
       "      <td>1</td>\n",
       "      <td>1</td>\n",
       "      <td>0</td>\n",
       "      <td>18203.00</td>\n",
       "      <td>0</td>\n",
       "      <td>31 to 40</td>\n",
       "      <td>501 to 699</td>\n",
       "      <td>50001 to 100000</td>\n",
       "      <td>0 to 25000</td>\n",
       "    </tr>\n",
       "  </tbody>\n",
       "</table>\n",
       "<p>70 rows × 18 columns</p>\n",
       "</div>"
      ],
      "text/plain": [
       "    RowNumber  CustomerId    Surname  CreditScore  Geography  Gender  Age  \\\n",
       "0           1    15634602   Hargrave          619          1       0   42   \n",
       "1           2    15647311       Hill          608          0       0   41   \n",
       "2           3    15619304       Onio          502          1       0   42   \n",
       "3           4    15701354       Boni          699          1       0   39   \n",
       "4           5    15737888   Mitchell          850          0       0   43   \n",
       "..        ...         ...        ...          ...        ...     ...  ...   \n",
       "65         66    15789484    Hammond          751          2       0   36   \n",
       "66         67    15696061  Brownless          581          2       0   34   \n",
       "67         68    15641582    Chibugo          735          2       1   43   \n",
       "68         69    15638424    Glauert          661          2       0   35   \n",
       "69         70    15755648     Pisano          675          1       0   21   \n",
       "\n",
       "    Tenure    Balance  NumOfProducts  HasCrCard  IsActiveMember  \\\n",
       "0        2       0.00              1          1               1   \n",
       "1        1   83807.86              1          0               1   \n",
       "2        8  159660.80              3          1               0   \n",
       "3        1       0.00              2          0               0   \n",
       "4        2  125510.82              1          1               1   \n",
       "..     ...        ...            ...        ...             ...   \n",
       "65       6  169831.46              2          1               1   \n",
       "66       1  101633.04              1          1               0   \n",
       "67      10  123180.01              2          1               1   \n",
       "68       5  150725.53              2          0               1   \n",
       "69       8   98373.26              1          1               0   \n",
       "\n",
       "    EstimatedSalary  Exited   Age_ord CreditScore_ord       Balance_ord  \\\n",
       "0         101348.88       1  41 to 50      501 to 699        0 to 25000   \n",
       "1         112542.58       0  41 to 50      501 to 699   50001 to 100000   \n",
       "2         113931.57       1  41 to 50      501 to 699  100001 to 200000   \n",
       "3          93826.63       0  31 to 40      501 to 699        0 to 25000   \n",
       "4          79084.10       0  41 to 50      700 to 950  100001 to 200000   \n",
       "..              ...     ...       ...             ...               ...   \n",
       "65         27758.36       0  31 to 40      700 to 950  100001 to 200000   \n",
       "66        110431.51       0  31 to 40      501 to 699  100001 to 200000   \n",
       "67        196673.28       0  41 to 50      700 to 950  100001 to 200000   \n",
       "68        113656.85       0  31 to 40      501 to 699  100001 to 200000   \n",
       "69         18203.00       0  31 to 40      501 to 699   50001 to 100000   \n",
       "\n",
       "   EstimatedSalary_ord  \n",
       "0     100001 to 125000  \n",
       "1     100001 to 125000  \n",
       "2     100001 to 125000  \n",
       "3      75001 to 100000  \n",
       "4      75001 to 100000  \n",
       "..                 ...  \n",
       "65      25001 to 50000  \n",
       "66    100001 to 125000  \n",
       "67    175001 to 200000  \n",
       "68    100001 to 125000  \n",
       "69          0 to 25000  \n",
       "\n",
       "[70 rows x 18 columns]"
      ]
     },
     "execution_count": 12,
     "metadata": {},
     "output_type": "execute_result"
    }
   ],
   "source": [
    "df_2.head(70)"
   ]
  },
  {
   "cell_type": "code",
   "execution_count": 179,
   "id": "59b87d8a",
   "metadata": {},
   "outputs": [
    {
     "data": {
      "text/plain": [
       "<seaborn.axisgrid.FacetGrid at 0x1a76beccc40>"
      ]
     },
     "execution_count": 179,
     "metadata": {},
     "output_type": "execute_result"
    },
    {
     "data": {
      "image/png": "[encoded data removed]",
      "text/plain": [
       "<Figure size 402.375x360 with 1 Axes>"
      ]
     },
     "metadata": {
      "needs_background": "light"
     },
     "output_type": "display_data"
    }
   ],
   "source": [
    "sns.catplot(x=\"Age_ord\", \n",
    "            kind=\"count\", \n",
    "            palette=\"Set2\", \n",
    "            data= df, \n",
    "            hue = \"Exited\" )"
   ]
  },
  {
   "cell_type": "code",
   "execution_count": 180,
   "id": "ffb7db70",
   "metadata": {},
   "outputs": [
    {
     "data": {
      "text/plain": [
       "<seaborn.axisgrid.FacetGrid at 0x1a76ca2c820>"
      ]
     },
     "execution_count": 180,
     "metadata": {},
     "output_type": "execute_result"
    },
    {
     "data": {
      "image/png": "[encoded data removed]",
      "text/plain": [
       "<Figure size 450.375x360 with 1 Axes>"
      ]
     },
     "metadata": {
      "needs_background": "light"
     },
     "output_type": "display_data"
    }
   ],
   "source": [
    "sns.catplot(x=\"Age_ord\", kind=\"count\", palette=\"Set2\", data= df, hue = \"CreditScore_ord\" )"
   ]
  },
  {
   "cell_type": "code",
   "execution_count": 181,
   "id": "42f32a7c",
   "metadata": {},
   "outputs": [
    {
     "data": {
      "text/plain": [
       "<seaborn.axisgrid.FacetGrid at 0x1a76c9eef10>"
      ]
     },
     "execution_count": 181,
     "metadata": {},
     "output_type": "execute_result"
    },
    {
     "data": {
      "image/png": "[encoded data removed]",
      "text/plain": [
       "<Figure size 423x360 with 1 Axes>"
      ]
     },
     "metadata": {
      "needs_background": "light"
     },
     "output_type": "display_data"
    }
   ],
   "source": [
    "sns.catplot(x=\"Age_ord\", \n",
    "            kind=\"count\", \n",
    "            palette=\"Set2\", \n",
    "            data= df, \n",
    "            hue = \"Geography\" )"
   ]
  },
  {
   "cell_type": "code",
   "execution_count": 182,
   "id": "4a9233a2",
   "metadata": {},
   "outputs": [
    {
     "data": {
      "text/plain": [
       "<seaborn.axisgrid.FacetGrid at 0x1a76e0ba430>"
      ]
     },
     "execution_count": 182,
     "metadata": {},
     "output_type": "execute_result"
    },
    {
     "data": {
      "image/png": "[encoded data removed]",
      "text/plain": [
       "<Figure size 408.75x360 with 1 Axes>"
      ]
     },
     "metadata": {
      "needs_background": "light"
     },
     "output_type": "display_data"
    }
   ],
   "source": [
    "sns.catplot(x=\"Age_ord\", kind=\"count\", palette=\"Set2\", data= df, hue = \"Tenure\" )"
   ]
  },
  {
   "cell_type": "code",
   "execution_count": 183,
   "id": "064fadac",
   "metadata": {},
   "outputs": [
    {
     "data": {
      "text/plain": [
       "<seaborn.axisgrid.FacetGrid at 0x1a76c1ba4c0>"
      ]
     },
     "execution_count": 183,
     "metadata": {},
     "output_type": "execute_result"
    },
    {
     "data": {
      "image/png": "[encoded data removed]",
      "text/plain": [
       "<Figure size 360x360 with 1 Axes>"
      ]
     },
     "metadata": {
      "needs_background": "light"
     },
     "output_type": "display_data"
    }
   ],
   "source": [
    "# alter mit Age-ord\n",
    "import seaborn as sns\n",
    "%matplotlib inline\n",
    "sns.catplot(x=\"Age_ord\", \n",
    "            kind=\"count\", \n",
    "            palette=\"Set2\", \n",
    "            data= df )"
   ]
  },
  {
   "cell_type": "markdown",
   "id": "d8695214",
   "metadata": {},
   "source": [
    "## 4.5 Interesse für Gehalt\n",
    "- Die Kunden haben ein EstimatedSalary von 10000 Dolar\n"
   ]
  },
  {
   "cell_type": "code",
   "execution_count": 184,
   "id": "cf44bcbc",
   "metadata": {},
   "outputs": [
    {
     "data": {
      "text/plain": [
       "<seaborn.axisgrid.FacetGrid at 0x1a76cab78b0>"
      ]
     },
     "execution_count": 184,
     "metadata": {},
     "output_type": "execute_result"
    },
    {
     "data": {
      "image/png": "[encoded data removed]",
      "text/plain": [
       "<Figure size 360x360 with 1 Axes>"
      ]
     },
     "metadata": {
      "needs_background": "light"
     },
     "output_type": "display_data"
    }
   ],
   "source": [
    "sns.catplot(x=\"Exited\", kind=\"box\", palette=\"Set2\", data= df, y= \"EstimatedSalary\" )"
   ]
  },
  {
   "cell_type": "code",
   "execution_count": 185,
   "id": "85b13129",
   "metadata": {},
   "outputs": [
    {
     "data": {
      "text/plain": [
       "<seaborn.axisgrid.FacetGrid at 0x1a76ab220a0>"
      ]
     },
     "execution_count": 185,
     "metadata": {},
     "output_type": "execute_result"
    },
    {
     "data": {
      "image/png": "[encoded data removed]",
      "text/plain": [
       "<Figure size 360x360 with 1 Axes>"
      ]
     },
     "metadata": {
      "needs_background": "light"
     },
     "output_type": "display_data"
    }
   ],
   "source": [
    "sns.catplot(x=\"Geography\", kind=\"box\", palette=\"Set2\", data= df, y= \"EstimatedSalary\" )"
   ]
  },
  {
   "cell_type": "code",
   "execution_count": 186,
   "id": "15ff43ef",
   "metadata": {},
   "outputs": [
    {
     "data": {
      "text/plain": [
       "<seaborn.axisgrid.FacetGrid at 0x1a76df4d460>"
      ]
     },
     "execution_count": 186,
     "metadata": {},
     "output_type": "execute_result"
    },
    {
     "data": {
      "image/png": "[encoded data removed]",
      "text/plain": [
       "<Figure size 360x360 with 1 Axes>"
      ]
     },
     "metadata": {
      "needs_background": "light"
     },
     "output_type": "display_data"
    }
   ],
   "source": [
    "sns.catplot(x=\"Tenure\", kind=\"box\", palette=\"Set2\", data= df, y= \"EstimatedSalary\" )\n"
   ]
  },
  {
   "cell_type": "markdown",
   "id": "e064b62c",
   "metadata": {},
   "source": [
    "## 4.7 Interesse für Land\n",
    "- 42,04% der Kunden kommen aus Spanien.\n",
    "- 25.91% der Kunden sind aktiv.\n",
    "- 83,84% der Kunden aus Spanien wollen die Bank nicht verlassen.\n",
    "- In Frankreich haben 810 Kunden die Bank bereits verlassen\n",
    "- 2477 Kunden kommen aus Frankreich , 5014 aus Spanien und 2509 aus Deutschland\n",
    "- Geographie Frankreich : 0 Spanien :1 Deutschland 2 "
   ]
  },
  {
   "cell_type": "code",
   "execution_count": 187,
   "id": "5d89e730",
   "metadata": {},
   "outputs": [
    {
     "data": {
      "text/plain": [
       "<seaborn.axisgrid.FacetGrid at 0x1a76cc770a0>"
      ]
     },
     "execution_count": 187,
     "metadata": {},
     "output_type": "execute_result"
    },
    {
     "data": {
      "image/png": "[encoded data removed]",
      "text/plain": [
       "<Figure size 402.375x360 with 1 Axes>"
      ]
     },
     "metadata": {
      "needs_background": "light"
     },
     "output_type": "display_data"
    }
   ],
   "source": [
    "# Geography Franca : 0 Espanha :1 Alemanha 2 \n",
    "sns.catplot(x=\"Geography\", \n",
    "            kind=\"count\", \n",
    "            palette=\"Set2\", \n",
    "            data= df, \n",
    "            hue = \"Exited\" )"
   ]
  },
  {
   "cell_type": "code",
   "execution_count": 188,
   "id": "bd2e9f39",
   "metadata": {},
   "outputs": [],
   "source": [
    "df2 =df.groupby([\"Geography\"])\n",
    "['Exited'].count().to_frame().\n",
    "rename(columns={'id':'contador'}).\n",
    "reset_index()"
   ]
  },
  {
   "cell_type": "code",
   "execution_count": 189,
   "id": "3761f3a8",
   "metadata": {},
   "outputs": [
    {
     "data": {
      "text/html": [
       "<div>\n",
       "<style scoped>\n",
       "    .dataframe tbody tr th:only-of-type {\n",
       "        vertical-align: middle;\n",
       "    }\n",
       "\n",
       "    .dataframe tbody tr th {\n",
       "        vertical-align: top;\n",
       "    }\n",
       "\n",
       "    .dataframe thead th {\n",
       "        text-align: right;\n",
       "    }\n",
       "</style>\n",
       "<table border=\"1\" class=\"dataframe\">\n",
       "  <thead>\n",
       "    <tr style=\"text-align: right;\">\n",
       "      <th></th>\n",
       "      <th>Geography</th>\n",
       "      <th>Exited</th>\n",
       "    </tr>\n",
       "  </thead>\n",
       "  <tbody>\n",
       "    <tr>\n",
       "      <th>0</th>\n",
       "      <td>0</td>\n",
       "      <td>2477</td>\n",
       "    </tr>\n",
       "    <tr>\n",
       "      <th>1</th>\n",
       "      <td>1</td>\n",
       "      <td>5014</td>\n",
       "    </tr>\n",
       "    <tr>\n",
       "      <th>2</th>\n",
       "      <td>2</td>\n",
       "      <td>2509</td>\n",
       "    </tr>\n",
       "  </tbody>\n",
       "</table>\n",
       "</div>"
      ],
      "text/plain": [
       "   Geography  Exited\n",
       "0          0    2477\n",
       "1          1    5014\n",
       "2          2    2509"
      ]
     },
     "execution_count": 189,
     "metadata": {},
     "output_type": "execute_result"
    }
   ],
   "source": [
    "df2.head()"
   ]
  },
  {
   "cell_type": "code",
   "execution_count": 190,
   "id": "a3cd64a1",
   "metadata": {},
   "outputs": [],
   "source": [
    "df3=df.groupby(['Geography','NumOfProducts']).mean()"
   ]
  },
  {
   "cell_type": "code",
   "execution_count": 191,
   "id": "e2d60900",
   "metadata": {},
   "outputs": [
    {
     "data": {
      "text/html": [
       "<div>\n",
       "<style scoped>\n",
       "    .dataframe tbody tr th:only-of-type {\n",
       "        vertical-align: middle;\n",
       "    }\n",
       "\n",
       "    .dataframe tbody tr th {\n",
       "        vertical-align: top;\n",
       "    }\n",
       "\n",
       "    .dataframe thead th {\n",
       "        text-align: right;\n",
       "    }\n",
       "</style>\n",
       "<table border=\"1\" class=\"dataframe\">\n",
       "  <thead>\n",
       "    <tr style=\"text-align: right;\">\n",
       "      <th></th>\n",
       "      <th></th>\n",
       "      <th>RowNumber</th>\n",
       "      <th>CustomerId</th>\n",
       "      <th>CreditScore</th>\n",
       "      <th>Gender</th>\n",
       "      <th>Age</th>\n",
       "      <th>Tenure</th>\n",
       "      <th>Balance</th>\n",
       "      <th>HasCrCard</th>\n",
       "      <th>IsActiveMember</th>\n",
       "      <th>EstimatedSalary</th>\n",
       "      <th>Exited</th>\n",
       "    </tr>\n",
       "    <tr>\n",
       "      <th>Geography</th>\n",
       "      <th>NumOfProducts</th>\n",
       "      <th></th>\n",
       "      <th></th>\n",
       "      <th></th>\n",
       "      <th></th>\n",
       "      <th></th>\n",
       "      <th></th>\n",
       "      <th></th>\n",
       "      <th></th>\n",
       "      <th></th>\n",
       "      <th></th>\n",
       "      <th></th>\n",
       "    </tr>\n",
       "  </thead>\n",
       "  <tbody>\n",
       "    <tr>\n",
       "      <th rowspan=\"4\" valign=\"top\">0</th>\n",
       "      <th>1</th>\n",
       "      <td>4911.444717</td>\n",
       "      <td>1.569025e+07</td>\n",
       "      <td>648.929566</td>\n",
       "      <td>0.577396</td>\n",
       "      <td>39.704341</td>\n",
       "      <td>4.965602</td>\n",
       "      <td>90595.373063</td>\n",
       "      <td>0.688780</td>\n",
       "      <td>0.551188</td>\n",
       "      <td>99280.483112</td>\n",
       "      <td>0.218673</td>\n",
       "    </tr>\n",
       "    <tr>\n",
       "      <th>2</th>\n",
       "      <td>4982.774303</td>\n",
       "      <td>1.569355e+07</td>\n",
       "      <td>654.097210</td>\n",
       "      <td>0.554522</td>\n",
       "      <td>37.901944</td>\n",
       "      <td>5.114962</td>\n",
       "      <td>32690.852688</td>\n",
       "      <td>0.704987</td>\n",
       "      <td>0.514793</td>\n",
       "      <td>99525.563609</td>\n",
       "      <td>0.073542</td>\n",
       "    </tr>\n",
       "    <tr>\n",
       "      <th>3</th>\n",
       "      <td>5094.545455</td>\n",
       "      <td>1.569702e+07</td>\n",
       "      <td>647.015152</td>\n",
       "      <td>0.378788</td>\n",
       "      <td>40.909091</td>\n",
       "      <td>4.803030</td>\n",
       "      <td>48385.897121</td>\n",
       "      <td>0.590909</td>\n",
       "      <td>0.424242</td>\n",
       "      <td>103223.656970</td>\n",
       "      <td>0.787879</td>\n",
       "    </tr>\n",
       "    <tr>\n",
       "      <th>4</th>\n",
       "      <td>5009.714286</td>\n",
       "      <td>1.565948e+07</td>\n",
       "      <td>644.428571</td>\n",
       "      <td>0.285714</td>\n",
       "      <td>45.142857</td>\n",
       "      <td>4.857143</td>\n",
       "      <td>91407.651429</td>\n",
       "      <td>1.000000</td>\n",
       "      <td>0.285714</td>\n",
       "      <td>77332.078571</td>\n",
       "      <td>1.000000</td>\n",
       "    </tr>\n",
       "    <tr>\n",
       "      <th rowspan=\"4\" valign=\"top\">1</th>\n",
       "      <th>1</th>\n",
       "      <td>4985.562848</td>\n",
       "      <td>1.568955e+07</td>\n",
       "      <td>647.989658</td>\n",
       "      <td>0.556086</td>\n",
       "      <td>39.175418</td>\n",
       "      <td>4.962609</td>\n",
       "      <td>90977.877896</td>\n",
       "      <td>0.710024</td>\n",
       "      <td>0.501591</td>\n",
       "      <td>98760.372673</td>\n",
       "      <td>0.224344</td>\n",
       "    </tr>\n",
       "    <tr>\n",
       "      <th>2</th>\n",
       "      <td>5082.617237</td>\n",
       "      <td>1.569161e+07</td>\n",
       "      <td>651.518378</td>\n",
       "      <td>0.547529</td>\n",
       "      <td>37.453739</td>\n",
       "      <td>5.032108</td>\n",
       "      <td>31828.097047</td>\n",
       "      <td>0.702577</td>\n",
       "      <td>0.536122</td>\n",
       "      <td>100748.059649</td>\n",
       "      <td>0.057034</td>\n",
       "    </tr>\n",
       "    <tr>\n",
       "      <th>3</th>\n",
       "      <td>4551.307692</td>\n",
       "      <td>1.569702e+07</td>\n",
       "      <td>643.615385</td>\n",
       "      <td>0.471154</td>\n",
       "      <td>44.221154</td>\n",
       "      <td>5.125000</td>\n",
       "      <td>50071.822500</td>\n",
       "      <td>0.759615</td>\n",
       "      <td>0.423077</td>\n",
       "      <td>102831.108558</td>\n",
       "      <td>0.788462</td>\n",
       "    </tr>\n",
       "    <tr>\n",
       "      <th>4</th>\n",
       "      <td>5479.310345</td>\n",
       "      <td>1.568453e+07</td>\n",
       "      <td>665.896552</td>\n",
       "      <td>0.344828</td>\n",
       "      <td>46.862069</td>\n",
       "      <td>5.965517</td>\n",
       "      <td>71362.731379</td>\n",
       "      <td>0.551724</td>\n",
       "      <td>0.586207</td>\n",
       "      <td>118821.490345</td>\n",
       "      <td>1.000000</td>\n",
       "    </tr>\n",
       "    <tr>\n",
       "      <th rowspan=\"4\" valign=\"top\">2</th>\n",
       "      <th>1</th>\n",
       "      <td>5005.431431</td>\n",
       "      <td>1.568923e+07</td>\n",
       "      <td>651.402520</td>\n",
       "      <td>0.507784</td>\n",
       "      <td>40.572276</td>\n",
       "      <td>5.005189</td>\n",
       "      <td>119868.328139</td>\n",
       "      <td>0.705708</td>\n",
       "      <td>0.466271</td>\n",
       "      <td>101029.034136</td>\n",
       "      <td>0.428466</td>\n",
       "    </tr>\n",
       "    <tr>\n",
       "      <th>2</th>\n",
       "      <td>4995.390385</td>\n",
       "      <td>1.569158e+07</td>\n",
       "      <td>651.543269</td>\n",
       "      <td>0.555769</td>\n",
       "      <td>38.267308</td>\n",
       "      <td>5.025000</td>\n",
       "      <td>119341.245038</td>\n",
       "      <td>0.720192</td>\n",
       "      <td>0.546154</td>\n",
       "      <td>100832.057606</td>\n",
       "      <td>0.121154</td>\n",
       "    </tr>\n",
       "    <tr>\n",
       "      <th>3</th>\n",
       "      <td>5016.916667</td>\n",
       "      <td>1.570273e+07</td>\n",
       "      <td>653.718750</td>\n",
       "      <td>0.447917</td>\n",
       "      <td>43.656250</td>\n",
       "      <td>5.010417</td>\n",
       "      <td>121572.672396</td>\n",
       "      <td>0.750000</td>\n",
       "      <td>0.427083</td>\n",
       "      <td>106681.521667</td>\n",
       "      <td>0.895833</td>\n",
       "    </tr>\n",
       "    <tr>\n",
       "      <th>4</th>\n",
       "      <td>4855.958333</td>\n",
       "      <td>1.567208e+07</td>\n",
       "      <td>641.375000</td>\n",
       "      <td>0.416667</td>\n",
       "      <td>44.416667</td>\n",
       "      <td>4.625000</td>\n",
       "      <td>121442.305417</td>\n",
       "      <td>0.750000</td>\n",
       "      <td>0.416667</td>\n",
       "      <td>95778.151250</td>\n",
       "      <td>1.000000</td>\n",
       "    </tr>\n",
       "  </tbody>\n",
       "</table>\n",
       "</div>"
      ],
      "text/plain": [
       "                           RowNumber    CustomerId  CreditScore    Gender  \\\n",
       "Geography NumOfProducts                                                     \n",
       "0         1              4911.444717  1.569025e+07   648.929566  0.577396   \n",
       "          2              4982.774303  1.569355e+07   654.097210  0.554522   \n",
       "          3              5094.545455  1.569702e+07   647.015152  0.378788   \n",
       "          4              5009.714286  1.565948e+07   644.428571  0.285714   \n",
       "1         1              4985.562848  1.568955e+07   647.989658  0.556086   \n",
       "          2              5082.617237  1.569161e+07   651.518378  0.547529   \n",
       "          3              4551.307692  1.569702e+07   643.615385  0.471154   \n",
       "          4              5479.310345  1.568453e+07   665.896552  0.344828   \n",
       "2         1              5005.431431  1.568923e+07   651.402520  0.507784   \n",
       "          2              4995.390385  1.569158e+07   651.543269  0.555769   \n",
       "          3              5016.916667  1.570273e+07   653.718750  0.447917   \n",
       "          4              4855.958333  1.567208e+07   641.375000  0.416667   \n",
       "\n",
       "                               Age    Tenure        Balance  HasCrCard  \\\n",
       "Geography NumOfProducts                                                  \n",
       "0         1              39.704341  4.965602   90595.373063   0.688780   \n",
       "          2              37.901944  5.114962   32690.852688   0.704987   \n",
       "          3              40.909091  4.803030   48385.897121   0.590909   \n",
       "          4              45.142857  4.857143   91407.651429   1.000000   \n",
       "1         1              39.175418  4.962609   90977.877896   0.710024   \n",
       "          2              37.453739  5.032108   31828.097047   0.702577   \n",
       "          3              44.221154  5.125000   50071.822500   0.759615   \n",
       "          4              46.862069  5.965517   71362.731379   0.551724   \n",
       "2         1              40.572276  5.005189  119868.328139   0.705708   \n",
       "          2              38.267308  5.025000  119341.245038   0.720192   \n",
       "          3              43.656250  5.010417  121572.672396   0.750000   \n",
       "          4              44.416667  4.625000  121442.305417   0.750000   \n",
       "\n",
       "                         IsActiveMember  EstimatedSalary    Exited  \n",
       "Geography NumOfProducts                                             \n",
       "0         1                    0.551188     99280.483112  0.218673  \n",
       "          2                    0.514793     99525.563609  0.073542  \n",
       "          3                    0.424242    103223.656970  0.787879  \n",
       "          4                    0.285714     77332.078571  1.000000  \n",
       "1         1                    0.501591     98760.372673  0.224344  \n",
       "          2                    0.536122    100748.059649  0.057034  \n",
       "          3                    0.423077    102831.108558  0.788462  \n",
       "          4                    0.586207    118821.490345  1.000000  \n",
       "2         1                    0.466271    101029.034136  0.428466  \n",
       "          2                    0.546154    100832.057606  0.121154  \n",
       "          3                    0.427083    106681.521667  0.895833  \n",
       "          4                    0.416667     95778.151250  1.000000  "
      ]
     },
     "execution_count": 191,
     "metadata": {},
     "output_type": "execute_result"
    }
   ],
   "source": [
    "df3.head(70)"
   ]
  },
  {
   "cell_type": "code",
   "execution_count": 192,
   "id": "264b366b",
   "metadata": {},
   "outputs": [
    {
     "data": {
      "text/plain": [
       "4204"
      ]
     },
     "execution_count": 192,
     "metadata": {},
     "output_type": "execute_result"
    }
   ],
   "source": [
    "((df[\"Geography\"]==1)&(df['Exited']==0)).sum()"
   ]
  },
  {
   "cell_type": "code",
   "execution_count": 193,
   "id": "028a97a2",
   "metadata": {},
   "outputs": [
    {
     "data": {
      "text/plain": [
       "0.8384523334662943"
      ]
     },
     "execution_count": 193,
     "metadata": {},
     "output_type": "execute_result"
    }
   ],
   "source": [
    "# 83,84% haben interesse für die Bank Spain :1\n",
    "((df[\"Geography\"]==1)\n",
    " &(df['Exited']==0))\n",
    ".sum()/5014"
   ]
  },
  {
   "cell_type": "code",
   "execution_count": 194,
   "id": "53151f2b",
   "metadata": {},
   "outputs": [
    {
     "data": {
      "text/plain": [
       "<seaborn.axisgrid.FacetGrid at 0x1a76c9da400>"
      ]
     },
     "execution_count": 194,
     "metadata": {},
     "output_type": "execute_result"
    },
    {
     "data": {
      "image/png": "[encoded data removed]",
      "text/plain": [
       "<Figure size 448x360 with 1 Axes>"
      ]
     },
     "metadata": {
      "needs_background": "light"
     },
     "output_type": "display_data"
    }
   ],
   "source": [
    "sns.catplot(x=\"Geography\", kind=\"count\", palette=\"Set2\", data= df, hue = \"IsActiveMember\" )"
   ]
  },
  {
   "cell_type": "code",
   "execution_count": 195,
   "id": "082c9a59",
   "metadata": {},
   "outputs": [
    {
     "name": "stdout",
     "output_type": "stream",
     "text": [
      "   Geography  IsActiveMember  counts\n",
      "0          0               0    1165\n",
      "1          0               1    1312\n",
      "2          1               0    2423\n",
      "3          1               1    2591\n",
      "4          2               0    1261\n",
      "5          2               1    1248\n"
     ]
    }
   ],
   "source": [
    "group=df.groupby([\"Geography\",'IsActiveMember'])\n",
    "print(group.size().reset_index(name='counts'))"
   ]
  },
  {
   "cell_type": "code",
   "execution_count": 196,
   "id": "5483ba29",
   "metadata": {},
   "outputs": [
    {
     "data": {
      "text/plain": [
       "<seaborn.axisgrid.FacetGrid at 0x1a76df55520>"
      ]
     },
     "execution_count": 196,
     "metadata": {},
     "output_type": "execute_result"
    },
    {
     "data": {
      "image/png": "[encoded data removed]",
      "text/plain": [
       "<Figure size 488.625x360 with 1 Axes>"
      ]
     },
     "metadata": {
      "needs_background": "light"
     },
     "output_type": "display_data"
    }
   ],
   "source": [
    "sns.catplot(x=\"Geography\", kind=\"count\", palette=\"Set2\", data= df_2, hue = \"Balance_ord\" )"
   ]
  },
  {
   "cell_type": "code",
   "execution_count": 197,
   "id": "acded9cc",
   "metadata": {},
   "outputs": [
    {
     "name": "stdout",
     "output_type": "stream",
     "text": [
      "   Geography  Exited  counts\n",
      "0          0       0    2064\n",
      "1          0       1     413\n",
      "2          1       0    4204\n",
      "3          1       1     810\n",
      "4          2       0    1695\n",
      "5          2       1     814\n"
     ]
    }
   ],
   "source": [
    "group=df.groupby([\"Geography\",'Exited'])\n",
    "print(group.size().\n",
    "reset_index(name='counts'))"
   ]
  },
  {
   "cell_type": "markdown",
   "id": "e4ed5f08",
   "metadata": {},
   "source": [
    "## 4.8 Interesse por EstimatedSalar"
   ]
  },
  {
   "cell_type": "code",
   "execution_count": 8,
   "id": "eaf9059d",
   "metadata": {},
   "outputs": [
    {
     "data": {
      "text/html": [
       "<div>\n",
       "<style scoped>\n",
       "    .dataframe tbody tr th:only-of-type {\n",
       "        vertical-align: middle;\n",
       "    }\n",
       "\n",
       "    .dataframe tbody tr th {\n",
       "        vertical-align: top;\n",
       "    }\n",
       "\n",
       "    .dataframe thead th {\n",
       "        text-align: right;\n",
       "    }\n",
       "</style>\n",
       "<table border=\"1\" class=\"dataframe\">\n",
       "  <thead>\n",
       "    <tr style=\"text-align: right;\">\n",
       "      <th></th>\n",
       "      <th>RowNumber</th>\n",
       "      <th>CustomerId</th>\n",
       "      <th>Surname</th>\n",
       "      <th>CreditScore</th>\n",
       "      <th>Geography</th>\n",
       "      <th>Gender</th>\n",
       "      <th>Age</th>\n",
       "      <th>Tenure</th>\n",
       "      <th>Balance</th>\n",
       "      <th>NumOfProducts</th>\n",
       "      <th>HasCrCard</th>\n",
       "      <th>IsActiveMember</th>\n",
       "      <th>EstimatedSalary</th>\n",
       "      <th>Exited</th>\n",
       "      <th>Age_ord</th>\n",
       "      <th>CreditScore_ord</th>\n",
       "      <th>Balance_ord</th>\n",
       "      <th>EstimatedSalary_ord</th>\n",
       "    </tr>\n",
       "  </thead>\n",
       "  <tbody>\n",
       "    <tr>\n",
       "      <th>0</th>\n",
       "      <td>1</td>\n",
       "      <td>15634602</td>\n",
       "      <td>Hargrave</td>\n",
       "      <td>619</td>\n",
       "      <td>1</td>\n",
       "      <td>0</td>\n",
       "      <td>42</td>\n",
       "      <td>2</td>\n",
       "      <td>0.00</td>\n",
       "      <td>1</td>\n",
       "      <td>1</td>\n",
       "      <td>1</td>\n",
       "      <td>101348.88</td>\n",
       "      <td>1</td>\n",
       "      <td>41 to 50</td>\n",
       "      <td>501 to 699</td>\n",
       "      <td>0 to 25000</td>\n",
       "      <td>100001 to 125000</td>\n",
       "    </tr>\n",
       "    <tr>\n",
       "      <th>1</th>\n",
       "      <td>2</td>\n",
       "      <td>15647311</td>\n",
       "      <td>Hill</td>\n",
       "      <td>608</td>\n",
       "      <td>0</td>\n",
       "      <td>0</td>\n",
       "      <td>41</td>\n",
       "      <td>1</td>\n",
       "      <td>83807.86</td>\n",
       "      <td>1</td>\n",
       "      <td>0</td>\n",
       "      <td>1</td>\n",
       "      <td>112542.58</td>\n",
       "      <td>0</td>\n",
       "      <td>41 to 50</td>\n",
       "      <td>501 to 699</td>\n",
       "      <td>50001 to 100000</td>\n",
       "      <td>100001 to 125000</td>\n",
       "    </tr>\n",
       "    <tr>\n",
       "      <th>2</th>\n",
       "      <td>3</td>\n",
       "      <td>15619304</td>\n",
       "      <td>Onio</td>\n",
       "      <td>502</td>\n",
       "      <td>1</td>\n",
       "      <td>0</td>\n",
       "      <td>42</td>\n",
       "      <td>8</td>\n",
       "      <td>159660.80</td>\n",
       "      <td>3</td>\n",
       "      <td>1</td>\n",
       "      <td>0</td>\n",
       "      <td>113931.57</td>\n",
       "      <td>1</td>\n",
       "      <td>41 to 50</td>\n",
       "      <td>501 to 699</td>\n",
       "      <td>100001 to 200000</td>\n",
       "      <td>100001 to 125000</td>\n",
       "    </tr>\n",
       "    <tr>\n",
       "      <th>3</th>\n",
       "      <td>4</td>\n",
       "      <td>15701354</td>\n",
       "      <td>Boni</td>\n",
       "      <td>699</td>\n",
       "      <td>1</td>\n",
       "      <td>0</td>\n",
       "      <td>39</td>\n",
       "      <td>1</td>\n",
       "      <td>0.00</td>\n",
       "      <td>2</td>\n",
       "      <td>0</td>\n",
       "      <td>0</td>\n",
       "      <td>93826.63</td>\n",
       "      <td>0</td>\n",
       "      <td>31 to 40</td>\n",
       "      <td>501 to 699</td>\n",
       "      <td>0 to 25000</td>\n",
       "      <td>75001 to 100000</td>\n",
       "    </tr>\n",
       "    <tr>\n",
       "      <th>4</th>\n",
       "      <td>5</td>\n",
       "      <td>15737888</td>\n",
       "      <td>Mitchell</td>\n",
       "      <td>850</td>\n",
       "      <td>0</td>\n",
       "      <td>0</td>\n",
       "      <td>43</td>\n",
       "      <td>2</td>\n",
       "      <td>125510.82</td>\n",
       "      <td>1</td>\n",
       "      <td>1</td>\n",
       "      <td>1</td>\n",
       "      <td>79084.10</td>\n",
       "      <td>0</td>\n",
       "      <td>41 to 50</td>\n",
       "      <td>700 to 950</td>\n",
       "      <td>100001 to 200000</td>\n",
       "      <td>75001 to 100000</td>\n",
       "    </tr>\n",
       "  </tbody>\n",
       "</table>\n",
       "</div>"
      ],
      "text/plain": [
       "   RowNumber  CustomerId   Surname  CreditScore  Geography  Gender  Age  \\\n",
       "0          1    15634602  Hargrave          619          1       0   42   \n",
       "1          2    15647311      Hill          608          0       0   41   \n",
       "2          3    15619304      Onio          502          1       0   42   \n",
       "3          4    15701354      Boni          699          1       0   39   \n",
       "4          5    15737888  Mitchell          850          0       0   43   \n",
       "\n",
       "   Tenure    Balance  NumOfProducts  HasCrCard  IsActiveMember  \\\n",
       "0       2       0.00              1          1               1   \n",
       "1       1   83807.86              1          0               1   \n",
       "2       8  159660.80              3          1               0   \n",
       "3       1       0.00              2          0               0   \n",
       "4       2  125510.82              1          1               1   \n",
       "\n",
       "   EstimatedSalary  Exited   Age_ord CreditScore_ord       Balance_ord  \\\n",
       "0        101348.88       1  41 to 50      501 to 699        0 to 25000   \n",
       "1        112542.58       0  41 to 50      501 to 699   50001 to 100000   \n",
       "2        113931.57       1  41 to 50      501 to 699  100001 to 200000   \n",
       "3         93826.63       0  31 to 40      501 to 699        0 to 25000   \n",
       "4         79084.10       0  41 to 50      700 to 950  100001 to 200000   \n",
       "\n",
       "  EstimatedSalary_ord  \n",
       "0    100001 to 125000  \n",
       "1    100001 to 125000  \n",
       "2    100001 to 125000  \n",
       "3     75001 to 100000  \n",
       "4     75001 to 100000  "
      ]
     },
     "execution_count": 8,
     "metadata": {},
     "output_type": "execute_result"
    }
   ],
   "source": [
    "df3 = pd.read_parquet('df_prossesing.parquet')\n",
    "df3.head()"
   ]
  },
  {
   "cell_type": "code",
   "execution_count": 9,
   "id": "54454ab1",
   "metadata": {},
   "outputs": [
    {
     "data": {
      "text/html": [
       "<div>\n",
       "<style scoped>\n",
       "    .dataframe tbody tr th:only-of-type {\n",
       "        vertical-align: middle;\n",
       "    }\n",
       "\n",
       "    .dataframe tbody tr th {\n",
       "        vertical-align: top;\n",
       "    }\n",
       "\n",
       "    .dataframe thead th {\n",
       "        text-align: right;\n",
       "    }\n",
       "</style>\n",
       "<table border=\"1\" class=\"dataframe\">\n",
       "  <thead>\n",
       "    <tr style=\"text-align: right;\">\n",
       "      <th></th>\n",
       "      <th>Gender</th>\n",
       "    </tr>\n",
       "    <tr>\n",
       "      <th>EstimatedSalary_ord</th>\n",
       "      <th></th>\n",
       "    </tr>\n",
       "  </thead>\n",
       "  <tbody>\n",
       "    <tr>\n",
       "      <th>0 to 25000</th>\n",
       "      <td>1217</td>\n",
       "    </tr>\n",
       "    <tr>\n",
       "      <th>25001 to 50000</th>\n",
       "      <td>1236</td>\n",
       "    </tr>\n",
       "    <tr>\n",
       "      <th>50001 to 75000</th>\n",
       "      <td>1269</td>\n",
       "    </tr>\n",
       "    <tr>\n",
       "      <th>75001 to 100000</th>\n",
       "      <td>1268</td>\n",
       "    </tr>\n",
       "    <tr>\n",
       "      <th>100001 to 125000</th>\n",
       "      <td>1276</td>\n",
       "    </tr>\n",
       "    <tr>\n",
       "      <th>125001 to 150000</th>\n",
       "      <td>1279</td>\n",
       "    </tr>\n",
       "    <tr>\n",
       "      <th>150001 to 175000</th>\n",
       "      <td>1195</td>\n",
       "    </tr>\n",
       "    <tr>\n",
       "      <th>175001 to 200000</th>\n",
       "      <td>1260</td>\n",
       "    </tr>\n",
       "  </tbody>\n",
       "</table>\n",
       "</div>"
      ],
      "text/plain": [
       "                     Gender\n",
       "EstimatedSalary_ord        \n",
       "0 to 25000             1217\n",
       "25001 to 50000         1236\n",
       "50001 to 75000         1269\n",
       "75001 to 100000        1268\n",
       "100001 to 125000       1276\n",
       "125001 to 150000       1279\n",
       "150001 to 175000       1195\n",
       "175001 to 200000       1260"
      ]
     },
     "execution_count": 9,
     "metadata": {},
     "output_type": "execute_result"
    }
   ],
   "source": [
    "df[['Gender','EstimatedSalary_ord']].groupby('EstimatedSalary_ord').count()"
   ]
  },
  {
   "cell_type": "code",
   "execution_count": 200,
   "id": "24412fdb",
   "metadata": {},
   "outputs": [
    {
     "data": {
      "text/plain": [
       "<AxesSubplot:xlabel='EstimatedSalary', ylabel='Density'>"
      ]
     },
     "execution_count": 200,
     "metadata": {},
     "output_type": "execute_result"
    },
    {
     "data": {
      "image/png": "[encoded data removed]",
      "text/plain": [
       "<Figure size 432x288 with 1 Axes>"
      ]
     },
     "metadata": {
      "needs_background": "light"
     },
     "output_type": "display_data"
    }
   ],
   "source": [
    "sns.kdeplot(df3['EstimatedSalary'])\n",
    "sns.rugplot(df3['EstimatedSalary'])"
   ]
  },
  {
   "cell_type": "markdown",
   "id": "1f564bf2",
   "metadata": {},
   "source": [
    "## 4.7 Interesse por HasCrCard\n",
    "\n",
    "- Die meisten Kunden, die eine Karte haben, bleiben bei der Bank\n",
    "- Kunden aus Spanien benutzen meinsten eine Kreditkarte.\n",
    "- kunden mit 3 oder 4 Produkten tendieren die Bank zu verlassen"
   ]
  },
  {
   "cell_type": "code",
   "execution_count": 201,
   "id": "34141b4d",
   "metadata": {},
   "outputs": [
    {
     "data": {
      "text/plain": [
       "<AxesSubplot:xlabel='HasCrCard', ylabel='count'>"
      ]
     },
     "execution_count": 201,
     "metadata": {},
     "output_type": "execute_result"
    },
    {
     "data": {
      "image/png": "[encoded data removed]",
      "text/plain": [
       "<Figure size 432x288 with 1 Axes>"
      ]
     },
     "metadata": {
      "needs_background": "light"
     },
     "output_type": "display_data"
    }
   ],
   "source": [
    "sns.countplot(x=\"HasCrCard\",data=df)"
   ]
  },
  {
   "cell_type": "code",
   "execution_count": 202,
   "id": "ea23eaed",
   "metadata": {},
   "outputs": [
    {
     "data": {
      "text/plain": [
       "<seaborn.axisgrid.FacetGrid at 0x1a76a461160>"
      ]
     },
     "execution_count": 202,
     "metadata": {},
     "output_type": "execute_result"
    },
    {
     "data": {
      "image/png": "[encoded data removed]",
      "text/plain": [
       "<Figure size 402.375x360 with 1 Axes>"
      ]
     },
     "metadata": {
      "needs_background": "light"
     },
     "output_type": "display_data"
    }
   ],
   "source": [
    "sns.catplot(x=\"HasCrCard\", kind=\"count\", palette=\"Set2\", data= df, hue = \"Exited\" )"
   ]
  },
  {
   "cell_type": "code",
   "execution_count": 203,
   "id": "af306910",
   "metadata": {},
   "outputs": [
    {
     "data": {
      "text/html": [
       "<div>\n",
       "<style scoped>\n",
       "    .dataframe tbody tr th:only-of-type {\n",
       "        vertical-align: middle;\n",
       "    }\n",
       "\n",
       "    .dataframe tbody tr th {\n",
       "        vertical-align: top;\n",
       "    }\n",
       "\n",
       "    .dataframe thead th {\n",
       "        text-align: right;\n",
       "    }\n",
       "</style>\n",
       "<table border=\"1\" class=\"dataframe\">\n",
       "  <thead>\n",
       "    <tr style=\"text-align: right;\">\n",
       "      <th></th>\n",
       "      <th>HasCrCard</th>\n",
       "      <th>Exited</th>\n",
       "      <th>contagem</th>\n",
       "    </tr>\n",
       "  </thead>\n",
       "  <tbody>\n",
       "    <tr>\n",
       "      <th>0</th>\n",
       "      <td>0</td>\n",
       "      <td>0</td>\n",
       "      <td>2332</td>\n",
       "    </tr>\n",
       "    <tr>\n",
       "      <th>1</th>\n",
       "      <td>0</td>\n",
       "      <td>1</td>\n",
       "      <td>613</td>\n",
       "    </tr>\n",
       "    <tr>\n",
       "      <th>2</th>\n",
       "      <td>1</td>\n",
       "      <td>0</td>\n",
       "      <td>5631</td>\n",
       "    </tr>\n",
       "    <tr>\n",
       "      <th>3</th>\n",
       "      <td>1</td>\n",
       "      <td>1</td>\n",
       "      <td>1424</td>\n",
       "    </tr>\n",
       "  </tbody>\n",
       "</table>\n",
       "</div>"
      ],
      "text/plain": [
       "   HasCrCard  Exited  contagem\n",
       "0          0       0      2332\n",
       "1          0       1       613\n",
       "2          1       0      5631\n",
       "3          1       1      1424"
      ]
     },
     "execution_count": 203,
     "metadata": {},
     "output_type": "execute_result"
    }
   ],
   "source": [
    "df.groupby(['HasCrCard','Exited']).size().reset_index().rename(columns={0:'contagem'})"
   ]
  },
  {
   "cell_type": "code",
   "execution_count": 204,
   "id": "b2f6dc85",
   "metadata": {},
   "outputs": [
    {
     "data": {
      "text/plain": [
       "<seaborn.axisgrid.FacetGrid at 0x1a76f4faf40>"
      ]
     },
     "execution_count": 204,
     "metadata": {},
     "output_type": "execute_result"
    },
    {
     "data": {
      "image/png": "[encoded data removed]",
      "text/plain": [
       "<Figure size 423x360 with 1 Axes>"
      ]
     },
     "metadata": {
      "needs_background": "light"
     },
     "output_type": "display_data"
    }
   ],
   "source": [
    "sns.catplot(x=\"HasCrCard\", kind=\"count\", palette=\"Set2\", data= df, hue = \"Geography\" )"
   ]
  },
  {
   "cell_type": "code",
   "execution_count": 205,
   "id": "60b7ca1b",
   "metadata": {},
   "outputs": [
    {
     "data": {
      "text/html": [
       "<div>\n",
       "<style scoped>\n",
       "    .dataframe tbody tr th:only-of-type {\n",
       "        vertical-align: middle;\n",
       "    }\n",
       "\n",
       "    .dataframe tbody tr th {\n",
       "        vertical-align: top;\n",
       "    }\n",
       "\n",
       "    .dataframe thead th {\n",
       "        text-align: right;\n",
       "    }\n",
       "</style>\n",
       "<table border=\"1\" class=\"dataframe\">\n",
       "  <thead>\n",
       "    <tr style=\"text-align: right;\">\n",
       "      <th></th>\n",
       "      <th>NumOfProducts</th>\n",
       "      <th>1</th>\n",
       "      <th>2</th>\n",
       "      <th>3</th>\n",
       "      <th>4</th>\n",
       "    </tr>\n",
       "  </thead>\n",
       "  <tbody>\n",
       "    <tr>\n",
       "      <th rowspan=\"8\" valign=\"top\">Exited</th>\n",
       "      <th>count</th>\n",
       "      <td>5084.000000</td>\n",
       "      <td>4590.000000</td>\n",
       "      <td>266.000000</td>\n",
       "      <td>60.0</td>\n",
       "    </tr>\n",
       "    <tr>\n",
       "      <th>mean</th>\n",
       "      <td>0.277144</td>\n",
       "      <td>0.075817</td>\n",
       "      <td>0.827068</td>\n",
       "      <td>1.0</td>\n",
       "    </tr>\n",
       "    <tr>\n",
       "      <th>std</th>\n",
       "      <td>0.447632</td>\n",
       "      <td>0.264734</td>\n",
       "      <td>0.378902</td>\n",
       "      <td>0.0</td>\n",
       "    </tr>\n",
       "    <tr>\n",
       "      <th>min</th>\n",
       "      <td>0.000000</td>\n",
       "      <td>0.000000</td>\n",
       "      <td>0.000000</td>\n",
       "      <td>1.0</td>\n",
       "    </tr>\n",
       "    <tr>\n",
       "      <th>25%</th>\n",
       "      <td>0.000000</td>\n",
       "      <td>0.000000</td>\n",
       "      <td>1.000000</td>\n",
       "      <td>1.0</td>\n",
       "    </tr>\n",
       "    <tr>\n",
       "      <th>50%</th>\n",
       "      <td>0.000000</td>\n",
       "      <td>0.000000</td>\n",
       "      <td>1.000000</td>\n",
       "      <td>1.0</td>\n",
       "    </tr>\n",
       "    <tr>\n",
       "      <th>75%</th>\n",
       "      <td>1.000000</td>\n",
       "      <td>0.000000</td>\n",
       "      <td>1.000000</td>\n",
       "      <td>1.0</td>\n",
       "    </tr>\n",
       "    <tr>\n",
       "      <th>max</th>\n",
       "      <td>1.000000</td>\n",
       "      <td>1.000000</td>\n",
       "      <td>1.000000</td>\n",
       "      <td>1.0</td>\n",
       "    </tr>\n",
       "  </tbody>\n",
       "</table>\n",
       "</div>"
      ],
      "text/plain": [
       "NumOfProducts            1            2           3     4\n",
       "Exited count   5084.000000  4590.000000  266.000000  60.0\n",
       "       mean       0.277144     0.075817    0.827068   1.0\n",
       "       std        0.447632     0.264734    0.378902   0.0\n",
       "       min        0.000000     0.000000    0.000000   1.0\n",
       "       25%        0.000000     0.000000    1.000000   1.0\n",
       "       50%        0.000000     0.000000    1.000000   1.0\n",
       "       75%        1.000000     0.000000    1.000000   1.0\n",
       "       max        1.000000     1.000000    1.000000   1.0"
      ]
     },
     "execution_count": 205,
     "metadata": {},
     "output_type": "execute_result"
    }
   ],
   "source": [
    "df[['NumOfProducts','Exited']].groupby('NumOfProducts').describe().transpose()"
   ]
  },
  {
   "cell_type": "markdown",
   "id": "fe427fe2",
   "metadata": {},
   "source": []
  },
  {
   "cell_type": "markdown",
   "id": "1f9660a2",
   "metadata": {},
   "source": [
    "## 4.8 Interesse für Korrelation\n",
    "- Es gibt eine Korrelation zwischen Banlace und Geography von 0.33\n",
    "- Und eine Korrelation zwischen Age und Exited von 0.29"
   ]
  },
  {
   "cell_type": "code",
   "execution_count": 206,
   "id": "599647cd",
   "metadata": {},
   "outputs": [
    {
     "data": {
      "text/html": [
       "<div>\n",
       "<style scoped>\n",
       "    .dataframe tbody tr th:only-of-type {\n",
       "        vertical-align: middle;\n",
       "    }\n",
       "\n",
       "    .dataframe tbody tr th {\n",
       "        vertical-align: top;\n",
       "    }\n",
       "\n",
       "    .dataframe thead th {\n",
       "        text-align: right;\n",
       "    }\n",
       "</style>\n",
       "<table border=\"1\" class=\"dataframe\">\n",
       "  <thead>\n",
       "    <tr style=\"text-align: right;\">\n",
       "      <th></th>\n",
       "      <th>RowNumber</th>\n",
       "      <th>CustomerId</th>\n",
       "      <th>CreditScore</th>\n",
       "      <th>Geography</th>\n",
       "      <th>Gender</th>\n",
       "      <th>Age</th>\n",
       "      <th>Tenure</th>\n",
       "      <th>Balance</th>\n",
       "      <th>NumOfProducts</th>\n",
       "      <th>HasCrCard</th>\n",
       "      <th>IsActiveMember</th>\n",
       "      <th>EstimatedSalary</th>\n",
       "      <th>Exited</th>\n",
       "    </tr>\n",
       "  </thead>\n",
       "  <tbody>\n",
       "    <tr>\n",
       "      <th>RowNumber</th>\n",
       "      <td>1.000000</td>\n",
       "      <td>0.004202</td>\n",
       "      <td>0.005840</td>\n",
       "      <td>0.006028</td>\n",
       "      <td>0.018196</td>\n",
       "      <td>0.000783</td>\n",
       "      <td>-0.006495</td>\n",
       "      <td>-0.009067</td>\n",
       "      <td>0.007246</td>\n",
       "      <td>0.000599</td>\n",
       "      <td>0.012044</td>\n",
       "      <td>-0.005988</td>\n",
       "      <td>-0.016571</td>\n",
       "    </tr>\n",
       "    <tr>\n",
       "      <th>CustomerId</th>\n",
       "      <td>0.004202</td>\n",
       "      <td>1.000000</td>\n",
       "      <td>0.005308</td>\n",
       "      <td>-0.006670</td>\n",
       "      <td>-0.002641</td>\n",
       "      <td>0.009497</td>\n",
       "      <td>-0.014883</td>\n",
       "      <td>-0.012419</td>\n",
       "      <td>0.016972</td>\n",
       "      <td>-0.014025</td>\n",
       "      <td>0.001665</td>\n",
       "      <td>0.015271</td>\n",
       "      <td>-0.006248</td>\n",
       "    </tr>\n",
       "    <tr>\n",
       "      <th>CreditScore</th>\n",
       "      <td>0.005840</td>\n",
       "      <td>0.005308</td>\n",
       "      <td>1.000000</td>\n",
       "      <td>0.000478</td>\n",
       "      <td>-0.002857</td>\n",
       "      <td>-0.003965</td>\n",
       "      <td>0.000842</td>\n",
       "      <td>0.006268</td>\n",
       "      <td>0.012238</td>\n",
       "      <td>-0.005458</td>\n",
       "      <td>0.025651</td>\n",
       "      <td>-0.001384</td>\n",
       "      <td>-0.027094</td>\n",
       "    </tr>\n",
       "    <tr>\n",
       "      <th>Geography</th>\n",
       "      <td>0.006028</td>\n",
       "      <td>-0.006670</td>\n",
       "      <td>0.000478</td>\n",
       "      <td>1.000000</td>\n",
       "      <td>-0.025446</td>\n",
       "      <td>0.029824</td>\n",
       "      <td>-0.002713</td>\n",
       "      <td>0.328736</td>\n",
       "      <td>-0.011923</td>\n",
       "      <td>0.014734</td>\n",
       "      <td>-0.022807</td>\n",
       "      <td>0.010285</td>\n",
       "      <td>0.138714</td>\n",
       "    </tr>\n",
       "    <tr>\n",
       "      <th>Gender</th>\n",
       "      <td>0.018196</td>\n",
       "      <td>-0.002641</td>\n",
       "      <td>-0.002857</td>\n",
       "      <td>-0.025446</td>\n",
       "      <td>1.000000</td>\n",
       "      <td>-0.027544</td>\n",
       "      <td>0.014733</td>\n",
       "      <td>0.012087</td>\n",
       "      <td>-0.021859</td>\n",
       "      <td>0.005766</td>\n",
       "      <td>0.022544</td>\n",
       "      <td>-0.008112</td>\n",
       "      <td>-0.106512</td>\n",
       "    </tr>\n",
       "    <tr>\n",
       "      <th>Age</th>\n",
       "      <td>0.000783</td>\n",
       "      <td>0.009497</td>\n",
       "      <td>-0.003965</td>\n",
       "      <td>0.029824</td>\n",
       "      <td>-0.027544</td>\n",
       "      <td>1.000000</td>\n",
       "      <td>-0.009997</td>\n",
       "      <td>0.028308</td>\n",
       "      <td>-0.030680</td>\n",
       "      <td>-0.011721</td>\n",
       "      <td>0.085472</td>\n",
       "      <td>-0.007201</td>\n",
       "      <td>0.285323</td>\n",
       "    </tr>\n",
       "    <tr>\n",
       "      <th>Tenure</th>\n",
       "      <td>-0.006495</td>\n",
       "      <td>-0.014883</td>\n",
       "      <td>0.000842</td>\n",
       "      <td>-0.002713</td>\n",
       "      <td>0.014733</td>\n",
       "      <td>-0.009997</td>\n",
       "      <td>1.000000</td>\n",
       "      <td>-0.012254</td>\n",
       "      <td>0.013444</td>\n",
       "      <td>0.022583</td>\n",
       "      <td>-0.028362</td>\n",
       "      <td>0.007784</td>\n",
       "      <td>-0.014001</td>\n",
       "    </tr>\n",
       "    <tr>\n",
       "      <th>Balance</th>\n",
       "      <td>-0.009067</td>\n",
       "      <td>-0.012419</td>\n",
       "      <td>0.006268</td>\n",
       "      <td>0.328736</td>\n",
       "      <td>0.012087</td>\n",
       "      <td>0.028308</td>\n",
       "      <td>-0.012254</td>\n",
       "      <td>1.000000</td>\n",
       "      <td>-0.304180</td>\n",
       "      <td>-0.014858</td>\n",
       "      <td>-0.010084</td>\n",
       "      <td>0.012797</td>\n",
       "      <td>0.118533</td>\n",
       "    </tr>\n",
       "    <tr>\n",
       "      <th>NumOfProducts</th>\n",
       "      <td>0.007246</td>\n",
       "      <td>0.016972</td>\n",
       "      <td>0.012238</td>\n",
       "      <td>-0.011923</td>\n",
       "      <td>-0.021859</td>\n",
       "      <td>-0.030680</td>\n",
       "      <td>0.013444</td>\n",
       "      <td>-0.304180</td>\n",
       "      <td>1.000000</td>\n",
       "      <td>0.003183</td>\n",
       "      <td>0.009612</td>\n",
       "      <td>0.014204</td>\n",
       "      <td>-0.047820</td>\n",
       "    </tr>\n",
       "    <tr>\n",
       "      <th>HasCrCard</th>\n",
       "      <td>0.000599</td>\n",
       "      <td>-0.014025</td>\n",
       "      <td>-0.005458</td>\n",
       "      <td>0.014734</td>\n",
       "      <td>0.005766</td>\n",
       "      <td>-0.011721</td>\n",
       "      <td>0.022583</td>\n",
       "      <td>-0.014858</td>\n",
       "      <td>0.003183</td>\n",
       "      <td>1.000000</td>\n",
       "      <td>-0.011866</td>\n",
       "      <td>-0.009933</td>\n",
       "      <td>-0.007138</td>\n",
       "    </tr>\n",
       "    <tr>\n",
       "      <th>IsActiveMember</th>\n",
       "      <td>0.012044</td>\n",
       "      <td>0.001665</td>\n",
       "      <td>0.025651</td>\n",
       "      <td>-0.022807</td>\n",
       "      <td>0.022544</td>\n",
       "      <td>0.085472</td>\n",
       "      <td>-0.028362</td>\n",
       "      <td>-0.010084</td>\n",
       "      <td>0.009612</td>\n",
       "      <td>-0.011866</td>\n",
       "      <td>1.000000</td>\n",
       "      <td>-0.011421</td>\n",
       "      <td>-0.156128</td>\n",
       "    </tr>\n",
       "    <tr>\n",
       "      <th>EstimatedSalary</th>\n",
       "      <td>-0.005988</td>\n",
       "      <td>0.015271</td>\n",
       "      <td>-0.001384</td>\n",
       "      <td>0.010285</td>\n",
       "      <td>-0.008112</td>\n",
       "      <td>-0.007201</td>\n",
       "      <td>0.007784</td>\n",
       "      <td>0.012797</td>\n",
       "      <td>0.014204</td>\n",
       "      <td>-0.009933</td>\n",
       "      <td>-0.011421</td>\n",
       "      <td>1.000000</td>\n",
       "      <td>0.012097</td>\n",
       "    </tr>\n",
       "    <tr>\n",
       "      <th>Exited</th>\n",
       "      <td>-0.016571</td>\n",
       "      <td>-0.006248</td>\n",
       "      <td>-0.027094</td>\n",
       "      <td>0.138714</td>\n",
       "      <td>-0.106512</td>\n",
       "      <td>0.285323</td>\n",
       "      <td>-0.014001</td>\n",
       "      <td>0.118533</td>\n",
       "      <td>-0.047820</td>\n",
       "      <td>-0.007138</td>\n",
       "      <td>-0.156128</td>\n",
       "      <td>0.012097</td>\n",
       "      <td>1.000000</td>\n",
       "    </tr>\n",
       "  </tbody>\n",
       "</table>\n",
       "</div>"
      ],
      "text/plain": [
       "                 RowNumber  CustomerId  CreditScore  Geography    Gender  \\\n",
       "RowNumber         1.000000    0.004202     0.005840   0.006028  0.018196   \n",
       "CustomerId        0.004202    1.000000     0.005308  -0.006670 -0.002641   \n",
       "CreditScore       0.005840    0.005308     1.000000   0.000478 -0.002857   \n",
       "Geography         0.006028   -0.006670     0.000478   1.000000 -0.025446   \n",
       "Gender            0.018196   -0.002641    -0.002857  -0.025446  1.000000   \n",
       "Age               0.000783    0.009497    -0.003965   0.029824 -0.027544   \n",
       "Tenure           -0.006495   -0.014883     0.000842  -0.002713  0.014733   \n",
       "Balance          -0.009067   -0.012419     0.006268   0.328736  0.012087   \n",
       "NumOfProducts     0.007246    0.016972     0.012238  -0.011923 -0.021859   \n",
       "HasCrCard         0.000599   -0.014025    -0.005458   0.014734  0.005766   \n",
       "IsActiveMember    0.012044    0.001665     0.025651  -0.022807  0.022544   \n",
       "EstimatedSalary  -0.005988    0.015271    -0.001384   0.010285 -0.008112   \n",
       "Exited           -0.016571   -0.006248    -0.027094   0.138714 -0.106512   \n",
       "\n",
       "                      Age    Tenure   Balance  NumOfProducts  HasCrCard  \\\n",
       "RowNumber        0.000783 -0.006495 -0.009067       0.007246   0.000599   \n",
       "CustomerId       0.009497 -0.014883 -0.012419       0.016972  -0.014025   \n",
       "CreditScore     -0.003965  0.000842  0.006268       0.012238  -0.005458   \n",
       "Geography        0.029824 -0.002713  0.328736      -0.011923   0.014734   \n",
       "Gender          -0.027544  0.014733  0.012087      -0.021859   0.005766   \n",
       "Age              1.000000 -0.009997  0.028308      -0.030680  -0.011721   \n",
       "Tenure          -0.009997  1.000000 -0.012254       0.013444   0.022583   \n",
       "Balance          0.028308 -0.012254  1.000000      -0.304180  -0.014858   \n",
       "NumOfProducts   -0.030680  0.013444 -0.304180       1.000000   0.003183   \n",
       "HasCrCard       -0.011721  0.022583 -0.014858       0.003183   1.000000   \n",
       "IsActiveMember   0.085472 -0.028362 -0.010084       0.009612  -0.011866   \n",
       "EstimatedSalary -0.007201  0.007784  0.012797       0.014204  -0.009933   \n",
       "Exited           0.285323 -0.014001  0.118533      -0.047820  -0.007138   \n",
       "\n",
       "                 IsActiveMember  EstimatedSalary    Exited  \n",
       "RowNumber              0.012044        -0.005988 -0.016571  \n",
       "CustomerId             0.001665         0.015271 -0.006248  \n",
       "CreditScore            0.025651        -0.001384 -0.027094  \n",
       "Geography             -0.022807         0.010285  0.138714  \n",
       "Gender                 0.022544        -0.008112 -0.106512  \n",
       "Age                    0.085472        -0.007201  0.285323  \n",
       "Tenure                -0.028362         0.007784 -0.014001  \n",
       "Balance               -0.010084         0.012797  0.118533  \n",
       "NumOfProducts          0.009612         0.014204 -0.047820  \n",
       "HasCrCard             -0.011866        -0.009933 -0.007138  \n",
       "IsActiveMember         1.000000        -0.011421 -0.156128  \n",
       "EstimatedSalary       -0.011421         1.000000  0.012097  \n",
       "Exited                -0.156128         0.012097  1.000000  "
      ]
     },
     "execution_count": 206,
     "metadata": {},
     "output_type": "execute_result"
    }
   ],
   "source": [
    "df3.corr()"
   ]
  },
  {
   "cell_type": "code",
   "execution_count": 207,
   "id": "43dea2d2",
   "metadata": {},
   "outputs": [
    {
     "data": {
      "text/plain": [
       "<AxesSubplot:>"
      ]
     },
     "execution_count": 207,
     "metadata": {},
     "output_type": "execute_result"
    },
    {
     "data": {
      "image/png": "[encoded data removed]",
      "text/plain": [
       "<Figure size 1080x576 with 2 Axes>"
      ]
     },
     "metadata": {
      "needs_background": "light"
     },
     "output_type": "display_data"
    }
   ],
   "source": [
    "plt.figure(figsize = (15,8))\n",
    "sns.heatmap(df3.corr(),cmap='coolwarm',annot=True)\n"
   ]
  },
  {
   "cell_type": "markdown",
   "id": "69602986",
   "metadata": {},
   "source": [
    "## 4.9 Statistiken nach Gruppen auswerten\n",
    "- Kunden aus Deutschland mit 3 Produkten oder mehr verlassen die Bank mit einer Wahrscheinlichkeit von 0.8958\n",
    "- Männliche Kunden zwischen 41 e 51 und eine CrediScore von 350 bis 500 verlassen die Bank mit einer Wahrscheinlichkeit von 0.45\n",
    "- Männliche Kunden zwischen 41 e 51 verlassen die Bank mit einer Wahrscheinlichkeit von 0.4923\n",
    "\n",
    "\n"
   ]
  },
  {
   "cell_type": "code",
   "execution_count": 208,
   "id": "265ffa1d",
   "metadata": {},
   "outputs": [
    {
     "data": {
      "text/html": [
       "<div>\n",
       "<style scoped>\n",
       "    .dataframe tbody tr th:only-of-type {\n",
       "        vertical-align: middle;\n",
       "    }\n",
       "\n",
       "    .dataframe tbody tr th {\n",
       "        vertical-align: top;\n",
       "    }\n",
       "\n",
       "    .dataframe thead th {\n",
       "        text-align: right;\n",
       "    }\n",
       "</style>\n",
       "<table border=\"1\" class=\"dataframe\">\n",
       "  <thead>\n",
       "    <tr style=\"text-align: right;\">\n",
       "      <th></th>\n",
       "      <th>RowNumber</th>\n",
       "      <th>CustomerId</th>\n",
       "      <th>Surname</th>\n",
       "      <th>CreditScore</th>\n",
       "      <th>Geography</th>\n",
       "      <th>Gender</th>\n",
       "      <th>Age</th>\n",
       "      <th>Tenure</th>\n",
       "      <th>Balance</th>\n",
       "      <th>NumOfProducts</th>\n",
       "      <th>HasCrCard</th>\n",
       "      <th>IsActiveMember</th>\n",
       "      <th>EstimatedSalary</th>\n",
       "      <th>Exited</th>\n",
       "      <th>Age_ord</th>\n",
       "      <th>CreditScore_ord</th>\n",
       "      <th>Balance_ord</th>\n",
       "      <th>EstimatedSalary_ord</th>\n",
       "    </tr>\n",
       "  </thead>\n",
       "  <tbody>\n",
       "    <tr>\n",
       "      <th>0</th>\n",
       "      <td>1</td>\n",
       "      <td>15634602</td>\n",
       "      <td>Hargrave</td>\n",
       "      <td>619</td>\n",
       "      <td>1</td>\n",
       "      <td>0</td>\n",
       "      <td>42</td>\n",
       "      <td>2</td>\n",
       "      <td>0.00</td>\n",
       "      <td>1</td>\n",
       "      <td>1</td>\n",
       "      <td>1</td>\n",
       "      <td>101348.88</td>\n",
       "      <td>1</td>\n",
       "      <td>41 to 50</td>\n",
       "      <td>501 to 699</td>\n",
       "      <td>0 to 25000</td>\n",
       "      <td>100001 to 125000</td>\n",
       "    </tr>\n",
       "    <tr>\n",
       "      <th>1</th>\n",
       "      <td>2</td>\n",
       "      <td>15647311</td>\n",
       "      <td>Hill</td>\n",
       "      <td>608</td>\n",
       "      <td>0</td>\n",
       "      <td>0</td>\n",
       "      <td>41</td>\n",
       "      <td>1</td>\n",
       "      <td>83807.86</td>\n",
       "      <td>1</td>\n",
       "      <td>0</td>\n",
       "      <td>1</td>\n",
       "      <td>112542.58</td>\n",
       "      <td>0</td>\n",
       "      <td>41 to 50</td>\n",
       "      <td>501 to 699</td>\n",
       "      <td>50001 to 100000</td>\n",
       "      <td>100001 to 125000</td>\n",
       "    </tr>\n",
       "    <tr>\n",
       "      <th>2</th>\n",
       "      <td>3</td>\n",
       "      <td>15619304</td>\n",
       "      <td>Onio</td>\n",
       "      <td>502</td>\n",
       "      <td>1</td>\n",
       "      <td>0</td>\n",
       "      <td>42</td>\n",
       "      <td>8</td>\n",
       "      <td>159660.80</td>\n",
       "      <td>3</td>\n",
       "      <td>1</td>\n",
       "      <td>0</td>\n",
       "      <td>113931.57</td>\n",
       "      <td>1</td>\n",
       "      <td>41 to 50</td>\n",
       "      <td>501 to 699</td>\n",
       "      <td>100001 to 200000</td>\n",
       "      <td>100001 to 125000</td>\n",
       "    </tr>\n",
       "    <tr>\n",
       "      <th>3</th>\n",
       "      <td>4</td>\n",
       "      <td>15701354</td>\n",
       "      <td>Boni</td>\n",
       "      <td>699</td>\n",
       "      <td>1</td>\n",
       "      <td>0</td>\n",
       "      <td>39</td>\n",
       "      <td>1</td>\n",
       "      <td>0.00</td>\n",
       "      <td>2</td>\n",
       "      <td>0</td>\n",
       "      <td>0</td>\n",
       "      <td>93826.63</td>\n",
       "      <td>0</td>\n",
       "      <td>31 to 40</td>\n",
       "      <td>501 to 699</td>\n",
       "      <td>0 to 25000</td>\n",
       "      <td>75001 to 100000</td>\n",
       "    </tr>\n",
       "    <tr>\n",
       "      <th>4</th>\n",
       "      <td>5</td>\n",
       "      <td>15737888</td>\n",
       "      <td>Mitchell</td>\n",
       "      <td>850</td>\n",
       "      <td>0</td>\n",
       "      <td>0</td>\n",
       "      <td>43</td>\n",
       "      <td>2</td>\n",
       "      <td>125510.82</td>\n",
       "      <td>1</td>\n",
       "      <td>1</td>\n",
       "      <td>1</td>\n",
       "      <td>79084.10</td>\n",
       "      <td>0</td>\n",
       "      <td>41 to 50</td>\n",
       "      <td>700 to 950</td>\n",
       "      <td>100001 to 200000</td>\n",
       "      <td>75001 to 100000</td>\n",
       "    </tr>\n",
       "  </tbody>\n",
       "</table>\n",
       "</div>"
      ],
      "text/plain": [
       "   RowNumber  CustomerId   Surname  CreditScore  Geography  Gender  Age  \\\n",
       "0          1    15634602  Hargrave          619          1       0   42   \n",
       "1          2    15647311      Hill          608          0       0   41   \n",
       "2          3    15619304      Onio          502          1       0   42   \n",
       "3          4    15701354      Boni          699          1       0   39   \n",
       "4          5    15737888  Mitchell          850          0       0   43   \n",
       "\n",
       "   Tenure    Balance  NumOfProducts  HasCrCard  IsActiveMember  \\\n",
       "0       2       0.00              1          1               1   \n",
       "1       1   83807.86              1          0               1   \n",
       "2       8  159660.80              3          1               0   \n",
       "3       1       0.00              2          0               0   \n",
       "4       2  125510.82              1          1               1   \n",
       "\n",
       "   EstimatedSalary  Exited   Age_ord CreditScore_ord       Balance_ord  \\\n",
       "0        101348.88       1  41 to 50      501 to 699        0 to 25000   \n",
       "1        112542.58       0  41 to 50      501 to 699   50001 to 100000   \n",
       "2        113931.57       1  41 to 50      501 to 699  100001 to 200000   \n",
       "3         93826.63       0  31 to 40      501 to 699        0 to 25000   \n",
       "4         79084.10       0  41 to 50      700 to 950  100001 to 200000   \n",
       "\n",
       "  EstimatedSalary_ord  \n",
       "0    100001 to 125000  \n",
       "1    100001 to 125000  \n",
       "2    100001 to 125000  \n",
       "3     75001 to 100000  \n",
       "4     75001 to 100000  "
      ]
     },
     "execution_count": 208,
     "metadata": {},
     "output_type": "execute_result"
    }
   ],
   "source": [
    "df.head()"
   ]
  },
  {
   "cell_type": "code",
   "execution_count": 209,
   "id": "b162de27",
   "metadata": {},
   "outputs": [
    {
     "data": {
      "text/html": [
       "<div>\n",
       "<style scoped>\n",
       "    .dataframe tbody tr th:only-of-type {\n",
       "        vertical-align: middle;\n",
       "    }\n",
       "\n",
       "    .dataframe tbody tr th {\n",
       "        vertical-align: top;\n",
       "    }\n",
       "\n",
       "    .dataframe thead th {\n",
       "        text-align: right;\n",
       "    }\n",
       "</style>\n",
       "<table border=\"1\" class=\"dataframe\">\n",
       "  <thead>\n",
       "    <tr style=\"text-align: right;\">\n",
       "      <th>NumOfProducts</th>\n",
       "      <th>1</th>\n",
       "      <th>2</th>\n",
       "      <th>3</th>\n",
       "      <th>4</th>\n",
       "    </tr>\n",
       "    <tr>\n",
       "      <th>Geography</th>\n",
       "      <th></th>\n",
       "      <th></th>\n",
       "      <th></th>\n",
       "      <th></th>\n",
       "    </tr>\n",
       "  </thead>\n",
       "  <tbody>\n",
       "    <tr>\n",
       "      <th>0</th>\n",
       "      <td>0.218673</td>\n",
       "      <td>0.073542</td>\n",
       "      <td>0.787879</td>\n",
       "      <td>1.0</td>\n",
       "    </tr>\n",
       "    <tr>\n",
       "      <th>1</th>\n",
       "      <td>0.224344</td>\n",
       "      <td>0.057034</td>\n",
       "      <td>0.788462</td>\n",
       "      <td>1.0</td>\n",
       "    </tr>\n",
       "    <tr>\n",
       "      <th>2</th>\n",
       "      <td>0.428466</td>\n",
       "      <td>0.121154</td>\n",
       "      <td>0.895833</td>\n",
       "      <td>1.0</td>\n",
       "    </tr>\n",
       "  </tbody>\n",
       "</table>\n",
       "</div>"
      ],
      "text/plain": [
       "NumOfProducts         1         2         3    4\n",
       "Geography                                       \n",
       "0              0.218673  0.073542  0.787879  1.0\n",
       "1              0.224344  0.057034  0.788462  1.0\n",
       "2              0.428466  0.121154  0.895833  1.0"
      ]
     },
     "execution_count": 209,
     "metadata": {},
     "output_type": "execute_result"
    }
   ],
   "source": [
    "# 2 Spalten Geography und NumOfProducts mit aggfunc\n",
    "\n",
    "pd.pivot_table(df, values='Exited',\n",
    "               index=['Geography'],\n",
    "               columns=['NumOfProducts'],\n",
    "               aggfunc=np.mean)"
   ]
  },
  {
   "cell_type": "code",
   "execution_count": 210,
   "id": "98642b23",
   "metadata": {},
   "outputs": [
    {
     "data": {
      "text/html": [
       "<div>\n",
       "<style scoped>\n",
       "    .dataframe tbody tr th:only-of-type {\n",
       "        vertical-align: middle;\n",
       "    }\n",
       "\n",
       "    .dataframe tbody tr th {\n",
       "        vertical-align: top;\n",
       "    }\n",
       "\n",
       "    .dataframe thead th {\n",
       "        text-align: right;\n",
       "    }\n",
       "</style>\n",
       "<table border=\"1\" class=\"dataframe\">\n",
       "  <thead>\n",
       "    <tr style=\"text-align: right;\">\n",
       "      <th>HasCrCard</th>\n",
       "      <th>0</th>\n",
       "      <th>1</th>\n",
       "    </tr>\n",
       "    <tr>\n",
       "      <th>Geography</th>\n",
       "      <th></th>\n",
       "      <th></th>\n",
       "    </tr>\n",
       "  </thead>\n",
       "  <tbody>\n",
       "    <tr>\n",
       "      <th>0</th>\n",
       "      <td>0.178571</td>\n",
       "      <td>0.161534</td>\n",
       "    </tr>\n",
       "    <tr>\n",
       "      <th>1</th>\n",
       "      <td>0.163834</td>\n",
       "      <td>0.160598</td>\n",
       "    </tr>\n",
       "    <tr>\n",
       "      <th>2</th>\n",
       "      <td>0.330084</td>\n",
       "      <td>0.322166</td>\n",
       "    </tr>\n",
       "  </tbody>\n",
       "</table>\n",
       "</div>"
      ],
      "text/plain": [
       "HasCrCard         0         1\n",
       "Geography                    \n",
       "0          0.178571  0.161534\n",
       "1          0.163834  0.160598\n",
       "2          0.330084  0.322166"
      ]
     },
     "execution_count": 210,
     "metadata": {},
     "output_type": "execute_result"
    }
   ],
   "source": [
    "pd.pivot_table(df, values='Exited', index=['Geography'],\n",
    "               columns=['HasCrCard'], aggfunc=np.mean)"
   ]
  },
  {
   "cell_type": "code",
   "execution_count": 211,
   "id": "ac94322a",
   "metadata": {},
   "outputs": [
    {
     "data": {
      "text/html": [
       "<div>\n",
       "<style scoped>\n",
       "    .dataframe tbody tr th:only-of-type {\n",
       "        vertical-align: middle;\n",
       "    }\n",
       "\n",
       "    .dataframe tbody tr th {\n",
       "        vertical-align: top;\n",
       "    }\n",
       "\n",
       "    .dataframe thead th {\n",
       "        text-align: right;\n",
       "    }\n",
       "</style>\n",
       "<table border=\"1\" class=\"dataframe\">\n",
       "  <thead>\n",
       "    <tr style=\"text-align: right;\">\n",
       "      <th>EstimatedSalary_ord</th>\n",
       "      <th>0 to 25000</th>\n",
       "      <th>25001 to 50000</th>\n",
       "      <th>50001 to 75000</th>\n",
       "      <th>75001 to 100000</th>\n",
       "      <th>100001 to 125000</th>\n",
       "      <th>125001 to 150000</th>\n",
       "      <th>150001 to 175000</th>\n",
       "      <th>175001 to 200000</th>\n",
       "    </tr>\n",
       "    <tr>\n",
       "      <th>Balance_ord</th>\n",
       "      <th></th>\n",
       "      <th></th>\n",
       "      <th></th>\n",
       "      <th></th>\n",
       "      <th></th>\n",
       "      <th></th>\n",
       "      <th></th>\n",
       "      <th></th>\n",
       "    </tr>\n",
       "  </thead>\n",
       "  <tbody>\n",
       "    <tr>\n",
       "      <th>0 to 25000</th>\n",
       "      <td>0.124464</td>\n",
       "      <td>0.133630</td>\n",
       "      <td>0.136674</td>\n",
       "      <td>0.136364</td>\n",
       "      <td>0.135255</td>\n",
       "      <td>0.146608</td>\n",
       "      <td>0.144828</td>\n",
       "      <td>0.156109</td>\n",
       "    </tr>\n",
       "    <tr>\n",
       "      <th>25001 to 50000</th>\n",
       "      <td>0.142857</td>\n",
       "      <td>0.375000</td>\n",
       "      <td>0.416667</td>\n",
       "      <td>0.333333</td>\n",
       "      <td>0.333333</td>\n",
       "      <td>0.375000</td>\n",
       "      <td>0.200000</td>\n",
       "      <td>0.272727</td>\n",
       "    </tr>\n",
       "    <tr>\n",
       "      <th>50001 to 100000</th>\n",
       "      <td>0.188889</td>\n",
       "      <td>0.144444</td>\n",
       "      <td>0.188119</td>\n",
       "      <td>0.220994</td>\n",
       "      <td>0.209756</td>\n",
       "      <td>0.191710</td>\n",
       "      <td>0.238095</td>\n",
       "      <td>0.210000</td>\n",
       "    </tr>\n",
       "    <tr>\n",
       "      <th>100001 to 200000</th>\n",
       "      <td>0.262032</td>\n",
       "      <td>0.261307</td>\n",
       "      <td>0.263502</td>\n",
       "      <td>0.213559</td>\n",
       "      <td>0.244224</td>\n",
       "      <td>0.245528</td>\n",
       "      <td>0.252577</td>\n",
       "      <td>0.258706</td>\n",
       "    </tr>\n",
       "    <tr>\n",
       "      <th>200001 to 250900</th>\n",
       "      <td>0.666667</td>\n",
       "      <td>1.000000</td>\n",
       "      <td>0.400000</td>\n",
       "      <td>0.750000</td>\n",
       "      <td>0.200000</td>\n",
       "      <td>0.500000</td>\n",
       "      <td>0.600000</td>\n",
       "      <td>0.750000</td>\n",
       "    </tr>\n",
       "  </tbody>\n",
       "</table>\n",
       "</div>"
      ],
      "text/plain": [
       "EstimatedSalary_ord  0 to 25000  25001 to 50000  50001 to 75000  \\\n",
       "Balance_ord                                                       \n",
       "0 to 25000             0.124464        0.133630        0.136674   \n",
       "25001 to 50000         0.142857        0.375000        0.416667   \n",
       "50001 to 100000        0.188889        0.144444        0.188119   \n",
       "100001 to 200000       0.262032        0.261307        0.263502   \n",
       "200001 to 250900       0.666667        1.000000        0.400000   \n",
       "\n",
       "EstimatedSalary_ord  75001 to 100000  100001 to 125000  125001 to 150000  \\\n",
       "Balance_ord                                                                \n",
       "0 to 25000                  0.136364          0.135255          0.146608   \n",
       "25001 to 50000              0.333333          0.333333          0.375000   \n",
       "50001 to 100000             0.220994          0.209756          0.191710   \n",
       "100001 to 200000            0.213559          0.244224          0.245528   \n",
       "200001 to 250900            0.750000          0.200000          0.500000   \n",
       "\n",
       "EstimatedSalary_ord  150001 to 175000  175001 to 200000  \n",
       "Balance_ord                                              \n",
       "0 to 25000                   0.144828          0.156109  \n",
       "25001 to 50000               0.200000          0.272727  \n",
       "50001 to 100000              0.238095          0.210000  \n",
       "100001 to 200000             0.252577          0.258706  \n",
       "200001 to 250900             0.600000          0.750000  "
      ]
     },
     "execution_count": 211,
     "metadata": {},
     "output_type": "execute_result"
    }
   ],
   "source": [
    "pd.pivot_table(df, values='Exited', index=['Balance_ord'],\n",
    "               columns=['EstimatedSalary_ord'], aggfunc=np.mean)"
   ]
  },
  {
   "cell_type": "code",
   "execution_count": 212,
   "id": "bc9d36e3",
   "metadata": {},
   "outputs": [
    {
     "data": {
      "text/html": [
       "<div>\n",
       "<style scoped>\n",
       "    .dataframe tbody tr th:only-of-type {\n",
       "        vertical-align: middle;\n",
       "    }\n",
       "\n",
       "    .dataframe tbody tr th {\n",
       "        vertical-align: top;\n",
       "    }\n",
       "\n",
       "    .dataframe thead th {\n",
       "        text-align: right;\n",
       "    }\n",
       "</style>\n",
       "<table border=\"1\" class=\"dataframe\">\n",
       "  <thead>\n",
       "    <tr style=\"text-align: right;\">\n",
       "      <th>Age_ord</th>\n",
       "      <th>18 to 30</th>\n",
       "      <th>31 to 40</th>\n",
       "      <th>41 to 50</th>\n",
       "      <th>51 to 60</th>\n",
       "      <th>61 to 100</th>\n",
       "    </tr>\n",
       "    <tr>\n",
       "      <th>CreditScore_ord</th>\n",
       "      <th></th>\n",
       "      <th></th>\n",
       "      <th></th>\n",
       "      <th></th>\n",
       "      <th></th>\n",
       "    </tr>\n",
       "  </thead>\n",
       "  <tbody>\n",
       "    <tr>\n",
       "      <th>350 to 500</th>\n",
       "      <td>0.000000</td>\n",
       "      <td>0.103365</td>\n",
       "      <td>0.492308</td>\n",
       "      <td>0.304348</td>\n",
       "      <td>1.0</td>\n",
       "    </tr>\n",
       "    <tr>\n",
       "      <th>501 to 699</th>\n",
       "      <td>0.075472</td>\n",
       "      <td>0.109411</td>\n",
       "      <td>0.385432</td>\n",
       "      <td>0.249123</td>\n",
       "      <td>0.0</td>\n",
       "    </tr>\n",
       "    <tr>\n",
       "      <th>700 to 950</th>\n",
       "      <td>0.030303</td>\n",
       "      <td>0.103968</td>\n",
       "      <td>0.398089</td>\n",
       "      <td>0.250000</td>\n",
       "      <td>0.0</td>\n",
       "    </tr>\n",
       "  </tbody>\n",
       "</table>\n",
       "</div>"
      ],
      "text/plain": [
       "Age_ord          18 to 30  31 to 40  41 to 50  51 to 60  61 to 100\n",
       "CreditScore_ord                                                   \n",
       "350 to 500       0.000000  0.103365  0.492308  0.304348        1.0\n",
       "501 to 699       0.075472  0.109411  0.385432  0.249123        0.0\n",
       "700 to 950       0.030303  0.103968  0.398089  0.250000        0.0"
      ]
     },
     "execution_count": 212,
     "metadata": {},
     "output_type": "execute_result"
    }
   ],
   "source": [
    "pd.pivot_table(df, values='Exited', index=['CreditScore_ord'],\n",
    "               columns=['Age_ord'], aggfunc=np.mean)"
   ]
  },
  {
   "cell_type": "code",
   "execution_count": 213,
   "id": "b7cefab1",
   "metadata": {},
   "outputs": [
    {
     "data": {
      "text/html": [
       "<div>\n",
       "<style scoped>\n",
       "    .dataframe tbody tr th:only-of-type {\n",
       "        vertical-align: middle;\n",
       "    }\n",
       "\n",
       "    .dataframe tbody tr th {\n",
       "        vertical-align: top;\n",
       "    }\n",
       "\n",
       "    .dataframe thead th {\n",
       "        text-align: right;\n",
       "    }\n",
       "</style>\n",
       "<table border=\"1\" class=\"dataframe\">\n",
       "  <thead>\n",
       "    <tr style=\"text-align: right;\">\n",
       "      <th>Age_ord</th>\n",
       "      <th>18 to 30</th>\n",
       "      <th>31 to 40</th>\n",
       "      <th>41 to 50</th>\n",
       "      <th>51 to 60</th>\n",
       "      <th>61 to 100</th>\n",
       "    </tr>\n",
       "    <tr>\n",
       "      <th>EstimatedSalary_ord</th>\n",
       "      <th></th>\n",
       "      <th></th>\n",
       "      <th></th>\n",
       "      <th></th>\n",
       "      <th></th>\n",
       "    </tr>\n",
       "  </thead>\n",
       "  <tbody>\n",
       "    <tr>\n",
       "      <th>0 to 25000</th>\n",
       "      <td>0.000000</td>\n",
       "      <td>0.101394</td>\n",
       "      <td>0.406077</td>\n",
       "      <td>0.288462</td>\n",
       "      <td>NaN</td>\n",
       "    </tr>\n",
       "    <tr>\n",
       "      <th>25001 to 50000</th>\n",
       "      <td>0.000000</td>\n",
       "      <td>0.099483</td>\n",
       "      <td>0.401575</td>\n",
       "      <td>0.253731</td>\n",
       "      <td>0.00</td>\n",
       "    </tr>\n",
       "    <tr>\n",
       "      <th>50001 to 75000</th>\n",
       "      <td>0.153846</td>\n",
       "      <td>0.139744</td>\n",
       "      <td>0.348039</td>\n",
       "      <td>0.203125</td>\n",
       "      <td>0.00</td>\n",
       "    </tr>\n",
       "    <tr>\n",
       "      <th>75001 to 100000</th>\n",
       "      <td>0.000000</td>\n",
       "      <td>0.090575</td>\n",
       "      <td>0.385390</td>\n",
       "      <td>0.229167</td>\n",
       "      <td>0.00</td>\n",
       "    </tr>\n",
       "    <tr>\n",
       "      <th>100001 to 125000</th>\n",
       "      <td>0.071429</td>\n",
       "      <td>0.107407</td>\n",
       "      <td>0.390181</td>\n",
       "      <td>0.265625</td>\n",
       "      <td>0.00</td>\n",
       "    </tr>\n",
       "    <tr>\n",
       "      <th>125001 to 150000</th>\n",
       "      <td>0.090909</td>\n",
       "      <td>0.105521</td>\n",
       "      <td>0.400498</td>\n",
       "      <td>0.254902</td>\n",
       "      <td>NaN</td>\n",
       "    </tr>\n",
       "    <tr>\n",
       "      <th>150001 to 175000</th>\n",
       "      <td>0.000000</td>\n",
       "      <td>0.104139</td>\n",
       "      <td>0.424165</td>\n",
       "      <td>0.229167</td>\n",
       "      <td>NaN</td>\n",
       "    </tr>\n",
       "    <tr>\n",
       "      <th>175001 to 200000</th>\n",
       "      <td>0.090909</td>\n",
       "      <td>0.113065</td>\n",
       "      <td>0.419437</td>\n",
       "      <td>0.293103</td>\n",
       "      <td>0.25</td>\n",
       "    </tr>\n",
       "  </tbody>\n",
       "</table>\n",
       "</div>"
      ],
      "text/plain": [
       "Age_ord              18 to 30  31 to 40  41 to 50  51 to 60  61 to 100\n",
       "EstimatedSalary_ord                                                   \n",
       "0 to 25000           0.000000  0.101394  0.406077  0.288462        NaN\n",
       "25001 to 50000       0.000000  0.099483  0.401575  0.253731       0.00\n",
       "50001 to 75000       0.153846  0.139744  0.348039  0.203125       0.00\n",
       "75001 to 100000      0.000000  0.090575  0.385390  0.229167       0.00\n",
       "100001 to 125000     0.071429  0.107407  0.390181  0.265625       0.00\n",
       "125001 to 150000     0.090909  0.105521  0.400498  0.254902        NaN\n",
       "150001 to 175000     0.000000  0.104139  0.424165  0.229167        NaN\n",
       "175001 to 200000     0.090909  0.113065  0.419437  0.293103       0.25"
      ]
     },
     "execution_count": 213,
     "metadata": {},
     "output_type": "execute_result"
    }
   ],
   "source": [
    "pd.pivot_table(df, values='Exited', index=['EstimatedSalary_ord'],\n",
    "               columns=['Age_ord'], aggfunc=np.mean)"
   ]
  },
  {
   "cell_type": "code",
   "execution_count": 214,
   "id": "6db13ed8",
   "metadata": {},
   "outputs": [
    {
     "data": {
      "text/html": [
       "<div>\n",
       "<style scoped>\n",
       "    .dataframe tbody tr th:only-of-type {\n",
       "        vertical-align: middle;\n",
       "    }\n",
       "\n",
       "    .dataframe tbody tr th {\n",
       "        vertical-align: top;\n",
       "    }\n",
       "\n",
       "    .dataframe thead th {\n",
       "        text-align: right;\n",
       "    }\n",
       "</style>\n",
       "<table border=\"1\" class=\"dataframe\">\n",
       "  <thead>\n",
       "    <tr style=\"text-align: right;\">\n",
       "      <th>Age_ord</th>\n",
       "      <th>18 to 30</th>\n",
       "      <th>31 to 40</th>\n",
       "      <th>41 to 50</th>\n",
       "      <th>51 to 60</th>\n",
       "      <th>61 to 100</th>\n",
       "    </tr>\n",
       "    <tr>\n",
       "      <th>Gender</th>\n",
       "      <th></th>\n",
       "      <th></th>\n",
       "      <th></th>\n",
       "      <th></th>\n",
       "      <th></th>\n",
       "    </tr>\n",
       "  </thead>\n",
       "  <tbody>\n",
       "    <tr>\n",
       "      <th>0</th>\n",
       "      <td>0.076923</td>\n",
       "      <td>0.138642</td>\n",
       "      <td>0.458082</td>\n",
       "      <td>0.302885</td>\n",
       "      <td>0.2</td>\n",
       "    </tr>\n",
       "    <tr>\n",
       "      <th>1</th>\n",
       "      <td>0.047619</td>\n",
       "      <td>0.082741</td>\n",
       "      <td>0.340098</td>\n",
       "      <td>0.209016</td>\n",
       "      <td>0.0</td>\n",
       "    </tr>\n",
       "  </tbody>\n",
       "</table>\n",
       "</div>"
      ],
      "text/plain": [
       "Age_ord  18 to 30  31 to 40  41 to 50  51 to 60  61 to 100\n",
       "Gender                                                    \n",
       "0        0.076923  0.138642  0.458082  0.302885        0.2\n",
       "1        0.047619  0.082741  0.340098  0.209016        0.0"
      ]
     },
     "execution_count": 214,
     "metadata": {},
     "output_type": "execute_result"
    }
   ],
   "source": [
    "pd.pivot_table(df, values='Exited', \n",
    "               index=['Gender'],\n",
    "               columns=['Age_ord'], \n",
    "               aggfunc=np.mean)"
   ]
  },
  {
   "cell_type": "code",
   "execution_count": 215,
   "id": "ae9011e7",
   "metadata": {},
   "outputs": [
    {
     "data": {
      "text/plain": [
       "38.9218"
      ]
     },
     "execution_count": 215,
     "metadata": {},
     "output_type": "execute_result"
    }
   ],
   "source": [
    "df['Age'].mean()"
   ]
  },
  {
   "cell_type": "code",
   "execution_count": 216,
   "id": "57509c09",
   "metadata": {},
   "outputs": [
    {
     "data": {
      "text/html": [
       "<div>\n",
       "<style scoped>\n",
       "    .dataframe tbody tr th:only-of-type {\n",
       "        vertical-align: middle;\n",
       "    }\n",
       "\n",
       "    .dataframe tbody tr th {\n",
       "        vertical-align: top;\n",
       "    }\n",
       "\n",
       "    .dataframe thead th {\n",
       "        text-align: right;\n",
       "    }\n",
       "</style>\n",
       "<table border=\"1\" class=\"dataframe\">\n",
       "  <thead>\n",
       "    <tr style=\"text-align: right;\">\n",
       "      <th>Age_ord</th>\n",
       "      <th>18 to 30</th>\n",
       "      <th>31 to 40</th>\n",
       "      <th>41 to 50</th>\n",
       "      <th>51 to 60</th>\n",
       "      <th>61 to 100</th>\n",
       "    </tr>\n",
       "    <tr>\n",
       "      <th>CreditScore_ord</th>\n",
       "      <th></th>\n",
       "      <th></th>\n",
       "      <th></th>\n",
       "      <th></th>\n",
       "      <th></th>\n",
       "    </tr>\n",
       "  </thead>\n",
       "  <tbody>\n",
       "    <tr>\n",
       "      <th>350 to 500</th>\n",
       "      <td>0.000000</td>\n",
       "      <td>0.103365</td>\n",
       "      <td>0.492308</td>\n",
       "      <td>0.304348</td>\n",
       "      <td>1.0</td>\n",
       "    </tr>\n",
       "    <tr>\n",
       "      <th>501 to 699</th>\n",
       "      <td>0.075472</td>\n",
       "      <td>0.109411</td>\n",
       "      <td>0.385432</td>\n",
       "      <td>0.249123</td>\n",
       "      <td>0.0</td>\n",
       "    </tr>\n",
       "    <tr>\n",
       "      <th>700 to 950</th>\n",
       "      <td>0.030303</td>\n",
       "      <td>0.103968</td>\n",
       "      <td>0.398089</td>\n",
       "      <td>0.250000</td>\n",
       "      <td>0.0</td>\n",
       "    </tr>\n",
       "  </tbody>\n",
       "</table>\n",
       "</div>"
      ],
      "text/plain": [
       "Age_ord          18 to 30  31 to 40  41 to 50  51 to 60  61 to 100\n",
       "CreditScore_ord                                                   \n",
       "350 to 500       0.000000  0.103365  0.492308  0.304348        1.0\n",
       "501 to 699       0.075472  0.109411  0.385432  0.249123        0.0\n",
       "700 to 950       0.030303  0.103968  0.398089  0.250000        0.0"
      ]
     },
     "execution_count": 216,
     "metadata": {},
     "output_type": "execute_result"
    }
   ],
   "source": [
    "pd.pivot_table(df, values='Exited', \n",
    "               index=['CreditScore_ord'],\n",
    "               columns=['Age_ord'], \n",
    "               aggfunc=np.mean)"
   ]
  },
  {
   "cell_type": "code",
   "execution_count": 16,
   "id": "3432ee77",
   "metadata": {},
   "outputs": [
    {
     "data": {
      "text/html": [
       "<div>\n",
       "<style scoped>\n",
       "    .dataframe tbody tr th:only-of-type {\n",
       "        vertical-align: middle;\n",
       "    }\n",
       "\n",
       "    .dataframe tbody tr th {\n",
       "        vertical-align: top;\n",
       "    }\n",
       "\n",
       "    .dataframe thead th {\n",
       "        text-align: right;\n",
       "    }\n",
       "</style>\n",
       "<table border=\"1\" class=\"dataframe\">\n",
       "  <thead>\n",
       "    <tr style=\"text-align: right;\">\n",
       "      <th>Age_ord</th>\n",
       "      <th>18 to 30</th>\n",
       "      <th>31 to 40</th>\n",
       "      <th>41 to 50</th>\n",
       "      <th>51 to 60</th>\n",
       "      <th>61 to 100</th>\n",
       "    </tr>\n",
       "    <tr>\n",
       "      <th>Tenure</th>\n",
       "      <th></th>\n",
       "      <th></th>\n",
       "      <th></th>\n",
       "      <th></th>\n",
       "      <th></th>\n",
       "    </tr>\n",
       "  </thead>\n",
       "  <tbody>\n",
       "    <tr>\n",
       "      <th>0</th>\n",
       "      <td>0.200000</td>\n",
       "      <td>0.134387</td>\n",
       "      <td>0.429630</td>\n",
       "      <td>0.100000</td>\n",
       "      <td>NaN</td>\n",
       "    </tr>\n",
       "    <tr>\n",
       "      <th>1</th>\n",
       "      <td>0.000000</td>\n",
       "      <td>0.105919</td>\n",
       "      <td>0.434251</td>\n",
       "      <td>0.392857</td>\n",
       "      <td>0.0</td>\n",
       "    </tr>\n",
       "    <tr>\n",
       "      <th>2</th>\n",
       "      <td>0.000000</td>\n",
       "      <td>0.101072</td>\n",
       "      <td>0.372434</td>\n",
       "      <td>0.173913</td>\n",
       "      <td>0.0</td>\n",
       "    </tr>\n",
       "    <tr>\n",
       "      <th>3</th>\n",
       "      <td>0.000000</td>\n",
       "      <td>0.106583</td>\n",
       "      <td>0.419355</td>\n",
       "      <td>0.300000</td>\n",
       "      <td>0.0</td>\n",
       "    </tr>\n",
       "    <tr>\n",
       "      <th>4</th>\n",
       "      <td>0.083333</td>\n",
       "      <td>0.100629</td>\n",
       "      <td>0.425743</td>\n",
       "      <td>0.236842</td>\n",
       "      <td>NaN</td>\n",
       "    </tr>\n",
       "    <tr>\n",
       "      <th>5</th>\n",
       "      <td>0.000000</td>\n",
       "      <td>0.110585</td>\n",
       "      <td>0.389937</td>\n",
       "      <td>0.283019</td>\n",
       "      <td>0.0</td>\n",
       "    </tr>\n",
       "    <tr>\n",
       "      <th>6</th>\n",
       "      <td>0.000000</td>\n",
       "      <td>0.125997</td>\n",
       "      <td>0.380137</td>\n",
       "      <td>0.157895</td>\n",
       "      <td>0.0</td>\n",
       "    </tr>\n",
       "    <tr>\n",
       "      <th>7</th>\n",
       "      <td>0.222222</td>\n",
       "      <td>0.093333</td>\n",
       "      <td>0.334426</td>\n",
       "      <td>0.256410</td>\n",
       "      <td>NaN</td>\n",
       "    </tr>\n",
       "    <tr>\n",
       "      <th>8</th>\n",
       "      <td>0.000000</td>\n",
       "      <td>0.094225</td>\n",
       "      <td>0.393651</td>\n",
       "      <td>0.270270</td>\n",
       "      <td>0.5</td>\n",
       "    </tr>\n",
       "    <tr>\n",
       "      <th>9</th>\n",
       "      <td>0.125000</td>\n",
       "      <td>0.114007</td>\n",
       "      <td>0.412903</td>\n",
       "      <td>0.269231</td>\n",
       "      <td>NaN</td>\n",
       "    </tr>\n",
       "    <tr>\n",
       "      <th>10</th>\n",
       "      <td>0.000000</td>\n",
       "      <td>0.122924</td>\n",
       "      <td>0.378882</td>\n",
       "      <td>0.130435</td>\n",
       "      <td>0.0</td>\n",
       "    </tr>\n",
       "  </tbody>\n",
       "</table>\n",
       "</div>"
      ],
      "text/plain": [
       "Age_ord  18 to 30  31 to 40  41 to 50  51 to 60  61 to 100\n",
       "Tenure                                                    \n",
       "0        0.200000  0.134387  0.429630  0.100000        NaN\n",
       "1        0.000000  0.105919  0.434251  0.392857        0.0\n",
       "2        0.000000  0.101072  0.372434  0.173913        0.0\n",
       "3        0.000000  0.106583  0.419355  0.300000        0.0\n",
       "4        0.083333  0.100629  0.425743  0.236842        NaN\n",
       "5        0.000000  0.110585  0.389937  0.283019        0.0\n",
       "6        0.000000  0.125997  0.380137  0.157895        0.0\n",
       "7        0.222222  0.093333  0.334426  0.256410        NaN\n",
       "8        0.000000  0.094225  0.393651  0.270270        0.5\n",
       "9        0.125000  0.114007  0.412903  0.269231        NaN\n",
       "10       0.000000  0.122924  0.378882  0.130435        0.0"
      ]
     },
     "execution_count": 16,
     "metadata": {},
     "output_type": "execute_result"
    }
   ],
   "source": [
    "pd.pivot_table(df, values='Exited', index=['Tenure'],\n",
    "               columns=['Age_ord'], aggfunc=np.mean)"
   ]
  },
  {
   "cell_type": "code",
   "execution_count": 19,
   "id": "19621f16",
   "metadata": {},
   "outputs": [
    {
     "data": {
      "text/plain": [
       "5.0128"
      ]
     },
     "execution_count": 19,
     "metadata": {},
     "output_type": "execute_result"
    }
   ],
   "source": [
    "df['Tenure'].mean()"
   ]
  },
  {
   "cell_type": "code",
   "execution_count": null,
   "id": "9bd62445",
   "metadata": {},
   "outputs": [],
   "source": []
  }
 ],
 "metadata": {
  "kernelspec": {
   "display_name": "Python 3 (ipykernel)",
   "language": "python",
   "name": "python3"
  },
  "language_info": {
   "codemirror_mode": {
    "name": "ipython",
    "version": 3
   },
   "file_extension": ".py",
   "mimetype": "text/x-python",
   "name": "python",
   "nbconvert_exporter": "python",
   "pygments_lexer": "ipython3",
   "version": "3.10.4"
  }
 },
 "nbformat": 4,
 "nbformat_minor": 5
}
